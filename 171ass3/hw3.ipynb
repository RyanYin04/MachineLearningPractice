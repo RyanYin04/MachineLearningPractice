{
 "nbformat": 4,
 "nbformat_minor": 2,
 "metadata": {
  "language_info": {
   "name": "python",
   "codemirror_mode": {
    "name": "ipython",
    "version": 3
   },
   "version": "3.7.3"
  },
  "orig_nbformat": 2,
  "file_extension": ".py",
  "mimetype": "text/x-python",
  "name": "python",
  "npconvert_exporter": "python",
  "pygments_lexer": "ipython3",
  "version": 3
 },
 "cells": [
  {
   "cell_type": "code",
   "execution_count": 10,
   "metadata": {},
   "outputs": [],
   "source": [
    "import numpy as np\n",
    "import pandas as pd\n",
    "from sklearn.linear_model import ElasticNetCV, ElasticNet"
   ]
  },
  {
   "cell_type": "markdown",
   "execution_count": null,
   "metadata": {},
   "outputs": [],
   "source": [
    "Load the data"
   ]
  },
  {
   "cell_type": "code",
   "execution_count": 2,
   "metadata": {},
   "outputs": [
    {
     "name": "stdout",
     "output_type": "stream",
     "text": "(194, 4502)\n"
    },
    {
     "data": {
      "text/html": "<div>\n<style scoped>\n    .dataframe tbody tr th:only-of-type {\n        vertical-align: middle;\n    }\n\n    .dataframe tbody tr th {\n        vertical-align: top;\n    }\n\n    .dataframe thead th {\n        text-align: right;\n    }\n</style>\n<table border=\"1\" class=\"dataframe\">\n  <thead>\n    <tr style=\"text-align: right;\">\n      <th></th>\n      <th>ID</th>\n      <th>Strain</th>\n      <th>Medium</th>\n      <th>Stress</th>\n      <th>GenePerturbed</th>\n      <th>GrowthRate</th>\n      <th>b3356</th>\n      <th>b2922</th>\n      <th>b2519</th>\n      <th>b3823</th>\n      <th>...</th>\n      <th>b4684</th>\n      <th>b4689</th>\n      <th>b4685</th>\n      <th>b4683</th>\n      <th>b4682</th>\n      <th>b4699</th>\n      <th>b4698</th>\n      <th>b4704</th>\n      <th>b4703</th>\n      <th>b4635</th>\n    </tr>\n  </thead>\n  <tbody>\n    <tr>\n      <th>0</th>\n      <td>T8129</td>\n      <td>MG1655</td>\n      <td>MD001</td>\n      <td>none</td>\n      <td>oxyR_KO</td>\n      <td>0.637</td>\n      <td>0.304790</td>\n      <td>0.506615</td>\n      <td>0.289473</td>\n      <td>0.289473</td>\n      <td>...</td>\n      <td>0</td>\n      <td>0</td>\n      <td>0</td>\n      <td>0</td>\n      <td>0</td>\n      <td>0</td>\n      <td>0</td>\n      <td>0</td>\n      <td>0</td>\n      <td>NaN</td>\n    </tr>\n    <tr>\n      <th>1</th>\n      <td>T8130</td>\n      <td>MG1655</td>\n      <td>MD001</td>\n      <td>none</td>\n      <td>oxyR_KO</td>\n      <td>0.637</td>\n      <td>0.361095</td>\n      <td>0.582885</td>\n      <td>0.259295</td>\n      <td>0.259295</td>\n      <td>...</td>\n      <td>0</td>\n      <td>0</td>\n      <td>0</td>\n      <td>0</td>\n      <td>0</td>\n      <td>0</td>\n      <td>0</td>\n      <td>0</td>\n      <td>0</td>\n      <td>8</td>\n    </tr>\n    <tr>\n      <th>2</th>\n      <td>T8131</td>\n      <td>MG1655</td>\n      <td>MD001</td>\n      <td>none</td>\n      <td>oxyR_KO</td>\n      <td>0.637</td>\n      <td>0.295920</td>\n      <td>0.477482</td>\n      <td>0.304459</td>\n      <td>0.304459</td>\n      <td>...</td>\n      <td>0</td>\n      <td>0</td>\n      <td>0</td>\n      <td>0</td>\n      <td>0</td>\n      <td>0</td>\n      <td>0</td>\n      <td>0</td>\n      <td>0</td>\n      <td></td>\n    </tr>\n    <tr>\n      <th>3</th>\n      <td>T8135</td>\n      <td>MG1655</td>\n      <td>MD001</td>\n      <td>none</td>\n      <td>soxS_KO</td>\n      <td>0.724</td>\n      <td>0.332041</td>\n      <td>0.554672</td>\n      <td>0.308533</td>\n      <td>0.308533</td>\n      <td>...</td>\n      <td>0</td>\n      <td>0</td>\n      <td>0</td>\n      <td>0</td>\n      <td>0</td>\n      <td>0</td>\n      <td>0</td>\n      <td>0</td>\n      <td>0</td>\n      <td>0</td>\n    </tr>\n    <tr>\n      <th>4</th>\n      <td>T8136</td>\n      <td>MG1655</td>\n      <td>MD001</td>\n      <td>none</td>\n      <td>soxS_KO</td>\n      <td>0.724</td>\n      <td>0.323373</td>\n      <td>0.442617</td>\n      <td>0.318442</td>\n      <td>0.318442</td>\n      <td>...</td>\n      <td>0</td>\n      <td>0</td>\n      <td>0</td>\n      <td>0</td>\n      <td>0</td>\n      <td>0</td>\n      <td>0</td>\n      <td>0</td>\n      <td>0</td>\n      <td>NaN</td>\n    </tr>\n  </tbody>\n</table>\n<p>5 rows × 4502 columns</p>\n</div>",
      "text/plain": "      ID  Strain Medium Stress GenePerturbed  GrowthRate     b3356     b2922  \\\n0  T8129  MG1655  MD001   none       oxyR_KO       0.637  0.304790  0.506615   \n1  T8130  MG1655  MD001   none       oxyR_KO       0.637  0.361095  0.582885   \n2  T8131  MG1655  MD001   none       oxyR_KO       0.637  0.295920  0.477482   \n3  T8135  MG1655  MD001   none       soxS_KO       0.724  0.332041  0.554672   \n4  T8136  MG1655  MD001   none       soxS_KO       0.724  0.323373  0.442617   \n\n      b2519     b3823  ...  b4684  b4689  b4685  b4683  b4682  b4699  b4698  \\\n0  0.289473  0.289473  ...      0      0      0      0      0      0      0   \n1  0.259295  0.259295  ...      0      0      0      0      0      0      0   \n2  0.304459  0.304459  ...      0      0      0      0      0      0      0   \n3  0.308533  0.308533  ...      0      0      0      0      0      0      0   \n4  0.318442  0.318442  ...      0      0      0      0      0      0      0   \n\n   b4704  b4703  b4635  \n0      0      0    NaN  \n1      0      0      8  \n2      0      0      \n  \n3      0      0      0  \n4      0      0    NaN  \n\n[5 rows x 4502 columns]"
     },
     "execution_count": 2,
     "metadata": {},
     "output_type": "execute_result"
    }
   ],
   "source": [
    "bac = pd.read_csv('data/ecs171.dataset.txt', sep = '\\s+' )\n",
    "print(bac.shape)\n",
    "bac.head()"
   ]
  },
  {
   "cell_type": "markdown",
   "execution_count": null,
   "metadata": {},
   "outputs": [],
   "source": [
    "Notice the last column does not always have any value, so I decided to drop it. And since there are more than 4000 attributes, and base on the basic knowledge of the gene, it should not make too much difference."
   ]
  },
  {
   "cell_type": "code",
   "execution_count": 3,
   "metadata": {},
   "outputs": [],
   "source": [
    "bac.drop(columns = 'b4635', axis = 1, inplace = True)"
   ]
  },
  {
   "cell_type": "code",
   "execution_count": 4,
   "metadata": {},
   "outputs": [
    {
     "data": {
      "text/html": "<div>\n<style scoped>\n    .dataframe tbody tr th:only-of-type {\n        vertical-align: middle;\n    }\n\n    .dataframe tbody tr th {\n        vertical-align: top;\n    }\n\n    .dataframe thead th {\n        text-align: right;\n    }\n</style>\n<table border=\"1\" class=\"dataframe\">\n  <thead>\n    <tr style=\"text-align: right;\">\n      <th></th>\n      <th>b3356</th>\n      <th>b2922</th>\n      <th>b2519</th>\n      <th>b3823</th>\n      <th>b3824</th>\n      <th>b3353</th>\n      <th>b1500</th>\n      <th>b2923</th>\n      <th>b2513</th>\n      <th>b2512</th>\n      <th>...</th>\n      <th>b4673</th>\n      <th>b4684</th>\n      <th>b4689</th>\n      <th>b4685</th>\n      <th>b4683</th>\n      <th>b4682</th>\n      <th>b4699</th>\n      <th>b4698</th>\n      <th>b4704</th>\n      <th>b4703</th>\n    </tr>\n  </thead>\n  <tbody>\n    <tr>\n      <th>0</th>\n      <td>0.304790</td>\n      <td>0.506615</td>\n      <td>0.289473</td>\n      <td>0.289473</td>\n      <td>0.092213</td>\n      <td>0.109991</td>\n      <td>0.289473</td>\n      <td>0.289473</td>\n      <td>0.316641</td>\n      <td>0.248555</td>\n      <td>...</td>\n      <td>0</td>\n      <td>0</td>\n      <td>0</td>\n      <td>0</td>\n      <td>0</td>\n      <td>0</td>\n      <td>0</td>\n      <td>0</td>\n      <td>0</td>\n      <td>0</td>\n    </tr>\n    <tr>\n      <th>1</th>\n      <td>0.361095</td>\n      <td>0.582885</td>\n      <td>0.259295</td>\n      <td>0.259295</td>\n      <td>0.104293</td>\n      <td>0.149100</td>\n      <td>0.259295</td>\n      <td>0.259295</td>\n      <td>0.350822</td>\n      <td>0.256931</td>\n      <td>...</td>\n      <td>0</td>\n      <td>0</td>\n      <td>0</td>\n      <td>0</td>\n      <td>0</td>\n      <td>0</td>\n      <td>0</td>\n      <td>0</td>\n      <td>0</td>\n      <td>0</td>\n    </tr>\n    <tr>\n      <th>2</th>\n      <td>0.295920</td>\n      <td>0.477482</td>\n      <td>0.304459</td>\n      <td>0.304459</td>\n      <td>0.084021</td>\n      <td>0.121631</td>\n      <td>0.304459</td>\n      <td>0.304459</td>\n      <td>0.333197</td>\n      <td>0.251729</td>\n      <td>...</td>\n      <td>0</td>\n      <td>0</td>\n      <td>0</td>\n      <td>0</td>\n      <td>0</td>\n      <td>0</td>\n      <td>0</td>\n      <td>0</td>\n      <td>0</td>\n      <td>0</td>\n    </tr>\n    <tr>\n      <th>3</th>\n      <td>0.332041</td>\n      <td>0.554672</td>\n      <td>0.308533</td>\n      <td>0.308533</td>\n      <td>0.109976</td>\n      <td>0.146904</td>\n      <td>0.308533</td>\n      <td>0.308533</td>\n      <td>0.318897</td>\n      <td>0.267445</td>\n      <td>...</td>\n      <td>0</td>\n      <td>0</td>\n      <td>0</td>\n      <td>0</td>\n      <td>0</td>\n      <td>0</td>\n      <td>0</td>\n      <td>0</td>\n      <td>0</td>\n      <td>0</td>\n    </tr>\n    <tr>\n      <th>4</th>\n      <td>0.323373</td>\n      <td>0.442617</td>\n      <td>0.318442</td>\n      <td>0.318442</td>\n      <td>0.109609</td>\n      <td>0.128908</td>\n      <td>0.318442</td>\n      <td>0.318442</td>\n      <td>0.293445</td>\n      <td>0.253606</td>\n      <td>...</td>\n      <td>0</td>\n      <td>0</td>\n      <td>0</td>\n      <td>0</td>\n      <td>0</td>\n      <td>0</td>\n      <td>0</td>\n      <td>0</td>\n      <td>0</td>\n      <td>0</td>\n    </tr>\n  </tbody>\n</table>\n<p>5 rows × 4495 columns</p>\n</div>",
      "text/plain": "      b3356     b2922     b2519     b3823     b3824     b3353     b1500  \\\n0  0.304790  0.506615  0.289473  0.289473  0.092213  0.109991  0.289473   \n1  0.361095  0.582885  0.259295  0.259295  0.104293  0.149100  0.259295   \n2  0.295920  0.477482  0.304459  0.304459  0.084021  0.121631  0.304459   \n3  0.332041  0.554672  0.308533  0.308533  0.109976  0.146904  0.308533   \n4  0.323373  0.442617  0.318442  0.318442  0.109609  0.128908  0.318442   \n\n      b2923     b2513     b2512  ...  b4673  b4684  b4689  b4685  b4683  \\\n0  0.289473  0.316641  0.248555  ...      0      0      0      0      0   \n1  0.259295  0.350822  0.256931  ...      0      0      0      0      0   \n2  0.304459  0.333197  0.251729  ...      0      0      0      0      0   \n3  0.308533  0.318897  0.267445  ...      0      0      0      0      0   \n4  0.318442  0.293445  0.253606  ...      0      0      0      0      0   \n\n   b4682  b4699  b4698  b4704  b4703  \n0      0      0      0      0      0  \n1      0      0      0      0      0  \n2      0      0      0      0      0  \n3      0      0      0      0      0  \n4      0      0      0      0      0  \n\n[5 rows x 4495 columns]"
     },
     "execution_count": 4,
     "metadata": {},
     "output_type": "execute_result"
    }
   ],
   "source": [
    "y = bac.GrowthRate\n",
    "x = bac.iloc[:,6: ]\n",
    "x.head()"
   ]
  },
  {
   "cell_type": "markdown",
   "execution_count": null,
   "metadata": {},
   "outputs": [],
   "source": [
    "## 1. Elastic Net with Cross-Vlaidation:"
   ]
  },
  {
   "cell_type": "code",
   "execution_count": 225,
   "metadata": {},
   "outputs": [],
   "source": [
    "class myEnet():\n",
    "    ## define my elastic class, so it would be easier to extend any method or requirments.\n",
    "    def __init__(self, **kw):\n",
    "        '''Pass any keywords required in ElatisticNetCV.'''\n",
    "        self._model = ElasticNetCV(**kw)\n",
    "    \n",
    "    def __call__(self, x, y):\n",
    "        '''\n",
    "        Call the firt method of the elastic model by calling the object itself.\n",
    "        '''\n",
    "        self._model.fit(x, y)\n",
    "        return self._model\n",
    "\n",
    "    def get_scores(self):\n",
    "        parameters = self._model.get_params()\n",
    "        l1_ratio = parameters['l1_ratio']\n",
    "        alphas = parameters['alphas']\n",
    "        mse = self._model.mse_path_\n",
    "        mean_mse = np.mean(mse, axis = 2)\n",
    "        frame = pd.DataFrame(mean_mse, index = l1_ratio, columns = alphas)\n",
    "        frame.index.names = [\"l1_ratio\"]\n",
    "        frame.columns.names = ['alpha']\n",
    "        return frame\n",
    "    def get_n_attributes(self):\n",
    "        return sum(self._model.coef_ != 0)\n",
    "\n",
    "    def get_index_attributes(self):\n",
    "        return np.where(self._model.coef_ != 0)\n",
    "\n",
    "    \n"
   ]
  },
  {
   "cell_type": "code",
   "execution_count": 226,
   "metadata": {},
   "outputs": [
    {
     "name": "stderr",
     "output_type": "stream",
     "text": "[Parallel(n_jobs=-1)]: Using backend ThreadingBackend with 12 concurrent workers.\n....................................................................................................................................................................................[Parallel(n_jobs=-1)]: Done  30 out of  30 | elapsed:    0.7s finished\n"
    }
   ],
   "source": [
    "# Tuning the parameters. \n",
    "# l1 ratio: .1, .25, .5, .75, .9, 1\n",
    "# Numbers of alpha = 6\n",
    "# There are 30 combinations in total.\n",
    "enet = myEnet(cv = 5, n_jobs = -1, random_state = 256, l1_ratio = [ .1, .25, .5, .75, .9, 1], alphas = [0.5, 1, 2, 4, 8, 16], max_iter = 8000, verbose = True)\n",
    "model = enet(x, y)"
   ]
  },
  {
   "cell_type": "code",
   "execution_count": 227,
   "metadata": {},
   "outputs": [
    {
     "data": {
      "text/html": "<div>\n<style scoped>\n    .dataframe tbody tr th:only-of-type {\n        vertical-align: middle;\n    }\n\n    .dataframe tbody tr th {\n        vertical-align: top;\n    }\n\n    .dataframe thead th {\n        text-align: right;\n    }\n</style>\n<table border=\"1\" class=\"dataframe\">\n  <thead>\n    <tr style=\"text-align: right;\">\n      <th>alpha</th>\n      <th>0.5</th>\n      <th>1.0</th>\n      <th>2.0</th>\n      <th>4.0</th>\n      <th>8.0</th>\n      <th>16.0</th>\n    </tr>\n    <tr>\n      <th>l1_ratio</th>\n      <th></th>\n      <th></th>\n      <th></th>\n      <th></th>\n      <th></th>\n      <th></th>\n    </tr>\n  </thead>\n  <tbody>\n    <tr>\n      <th>0.10</th>\n      <td>0.055702</td>\n      <td>0.055702</td>\n      <td>0.055771</td>\n      <td>0.055743</td>\n      <td>0.053729</td>\n      <td>0.056487</td>\n    </tr>\n    <tr>\n      <th>0.25</th>\n      <td>0.055702</td>\n      <td>0.055702</td>\n      <td>0.055702</td>\n      <td>0.055779</td>\n      <td>0.055749</td>\n      <td>0.054794</td>\n    </tr>\n    <tr>\n      <th>0.50</th>\n      <td>0.055702</td>\n      <td>0.055702</td>\n      <td>0.055702</td>\n      <td>0.055702</td>\n      <td>0.055779</td>\n      <td>0.055749</td>\n    </tr>\n    <tr>\n      <th>0.75</th>\n      <td>0.055702</td>\n      <td>0.055702</td>\n      <td>0.055702</td>\n      <td>0.055702</td>\n      <td>0.055702</td>\n      <td>0.055768</td>\n    </tr>\n    <tr>\n      <th>0.90</th>\n      <td>0.055702</td>\n      <td>0.055702</td>\n      <td>0.055702</td>\n      <td>0.055702</td>\n      <td>0.055702</td>\n      <td>0.055782</td>\n    </tr>\n    <tr>\n      <th>1.00</th>\n      <td>0.055702</td>\n      <td>0.055702</td>\n      <td>0.055702</td>\n      <td>0.055702</td>\n      <td>0.055702</td>\n      <td>0.055779</td>\n    </tr>\n  </tbody>\n</table>\n</div>",
      "text/plain": "alpha         0.5       1.0       2.0       4.0       8.0       16.0\nl1_ratio                                                            \n0.10      0.055702  0.055702  0.055771  0.055743  0.053729  0.056487\n0.25      0.055702  0.055702  0.055702  0.055779  0.055749  0.054794\n0.50      0.055702  0.055702  0.055702  0.055702  0.055779  0.055749\n0.75      0.055702  0.055702  0.055702  0.055702  0.055702  0.055768\n0.90      0.055702  0.055702  0.055702  0.055702  0.055702  0.055782\n1.00      0.055702  0.055702  0.055702  0.055702  0.055702  0.055779"
     },
     "execution_count": 227,
     "metadata": {},
     "output_type": "execute_result"
    }
   ],
   "source": [
    "enet.get_scores()"
   ]
  },
  {
   "cell_type": "markdown",
   "execution_count": null,
   "metadata": {},
   "outputs": [],
   "source": [
    "As the score table shows, the minimal mse is obtained when alpha = 8 and l1_ratio = 0.1."
   ]
  },
  {
   "cell_type": "code",
   "execution_count": 228,
   "metadata": {},
   "outputs": [
    {
     "data": {
      "text/plain": "8"
     },
     "execution_count": 228,
     "metadata": {},
     "output_type": "execute_result"
    }
   ],
   "source": [
    "enet.get_n_attributes()"
   ]
  },
  {
   "cell_type": "code",
   "execution_count": 231,
   "metadata": {},
   "outputs": [
    {
     "data": {
      "text/plain": "(array([ 152,  159,  400,  723, 2409, 2576, 2718, 3088]),)"
     },
     "execution_count": 231,
     "metadata": {},
     "output_type": "execute_result"
    }
   ],
   "source": [
    "enet.get_index_attributes()"
   ]
  },
  {
   "cell_type": "markdown",
   "execution_count": null,
   "metadata": {},
   "outputs": [],
   "source": [
    "Based on the output above, when set alpha = 8 and l1_ratio to be .1, there will be 8 attributes that are treated as informative in the model, and their indices are: 152,  159,  400,  723, 2409, 2576, 2718, 3088. And the five-fold cross validation error is 0.053729."
   ]
  },
  {
   "cell_type": "markdown",
   "execution_count": null,
   "metadata": {},
   "outputs": [],
   "source": [
    "## 2. "
   ]
  },
  {
   "cell_type": "code",
   "execution_count": 232,
   "metadata": {},
   "outputs": [],
   "source": [
    "from sklearn.utils import resample"
   ]
  },
  {
   "cell_type": "markdown",
   "execution_count": null,
   "metadata": {},
   "outputs": [],
   "source": [
    "Assume the distribution of the error term is normal distribution. "
   ]
  },
  {
   "cell_type": "code",
   "execution_count": null,
   "metadata": {},
   "outputs": [],
   "source": [
    "def bootStrap(x, y, n_samples):\n",
    "    "
   ]
  },
  {
   "cell_type": "code",
   "execution_count": 238,
   "metadata": {},
   "outputs": [],
   "source": [
    "x_sampled, y_sampled = resample(x,y, n_samples = 2000)"
   ]
  },
  {
   "cell_type": "code",
   "execution_count": 240,
   "metadata": {},
   "outputs": [
    {
     "data": {
      "text/html": "<div>\n<style scoped>\n    .dataframe tbody tr th:only-of-type {\n        vertical-align: middle;\n    }\n\n    .dataframe tbody tr th {\n        vertical-align: top;\n    }\n\n    .dataframe thead th {\n        text-align: right;\n    }\n</style>\n<table border=\"1\" class=\"dataframe\">\n  <thead>\n    <tr style=\"text-align: right;\">\n      <th></th>\n      <th>b3356</th>\n      <th>b2922</th>\n      <th>b2519</th>\n      <th>b3823</th>\n      <th>b3824</th>\n      <th>b3353</th>\n      <th>b1500</th>\n      <th>b2923</th>\n      <th>b2513</th>\n      <th>b2512</th>\n      <th>...</th>\n      <th>b4673</th>\n      <th>b4684</th>\n      <th>b4689</th>\n      <th>b4685</th>\n      <th>b4683</th>\n      <th>b4682</th>\n      <th>b4699</th>\n      <th>b4698</th>\n      <th>b4704</th>\n      <th>b4703</th>\n    </tr>\n  </thead>\n  <tbody>\n    <tr>\n      <th>29</th>\n      <td>0.371718</td>\n      <td>0.547738</td>\n      <td>0.114015</td>\n      <td>0.088037</td>\n      <td>0.160511</td>\n      <td>0.307009</td>\n      <td>1.139102</td>\n      <td>0.000000</td>\n      <td>0.407671</td>\n      <td>0.346156</td>\n      <td>...</td>\n      <td>0</td>\n      <td>0</td>\n      <td>0</td>\n      <td>0</td>\n      <td>0</td>\n      <td>0</td>\n      <td>0</td>\n      <td>0</td>\n      <td>0</td>\n      <td>0</td>\n    </tr>\n    <tr>\n      <th>21</th>\n      <td>2.576907</td>\n      <td>0.000000</td>\n      <td>0.000000</td>\n      <td>0.000000</td>\n      <td>0.000000</td>\n      <td>0.000000</td>\n      <td>0.000000</td>\n      <td>0.000000</td>\n      <td>6.254210</td>\n      <td>0.000000</td>\n      <td>...</td>\n      <td>0</td>\n      <td>0</td>\n      <td>0</td>\n      <td>0</td>\n      <td>0</td>\n      <td>0</td>\n      <td>0</td>\n      <td>0</td>\n      <td>0</td>\n      <td>0</td>\n    </tr>\n    <tr>\n      <th>173</th>\n      <td>0.026878</td>\n      <td>0.032896</td>\n      <td>0.000000</td>\n      <td>0.000000</td>\n      <td>0.016990</td>\n      <td>0.013722</td>\n      <td>0.010435</td>\n      <td>0.012775</td>\n      <td>0.026635</td>\n      <td>0.030571</td>\n      <td>...</td>\n      <td>0</td>\n      <td>0</td>\n      <td>0</td>\n      <td>0</td>\n      <td>0</td>\n      <td>0</td>\n      <td>0</td>\n      <td>0</td>\n      <td>0</td>\n      <td>0</td>\n    </tr>\n    <tr>\n      <th>2</th>\n      <td>0.295920</td>\n      <td>0.477482</td>\n      <td>0.304459</td>\n      <td>0.304459</td>\n      <td>0.084021</td>\n      <td>0.121631</td>\n      <td>0.304459</td>\n      <td>0.304459</td>\n      <td>0.333197</td>\n      <td>0.251729</td>\n      <td>...</td>\n      <td>0</td>\n      <td>0</td>\n      <td>0</td>\n      <td>0</td>\n      <td>0</td>\n      <td>0</td>\n      <td>0</td>\n      <td>0</td>\n      <td>0</td>\n      <td>0</td>\n    </tr>\n    <tr>\n      <th>66</th>\n      <td>0.238176</td>\n      <td>0.247356</td>\n      <td>0.000000</td>\n      <td>0.000000</td>\n      <td>0.357283</td>\n      <td>0.902854</td>\n      <td>0.113167</td>\n      <td>0.113167</td>\n      <td>0.248575</td>\n      <td>0.271077</td>\n      <td>...</td>\n      <td>0</td>\n      <td>0</td>\n      <td>0</td>\n      <td>0</td>\n      <td>0</td>\n      <td>0</td>\n      <td>0</td>\n      <td>0</td>\n      <td>0</td>\n      <td>0</td>\n    </tr>\n    <tr>\n      <th>135</th>\n      <td>0.539999</td>\n      <td>0.000000</td>\n      <td>0.000000</td>\n      <td>2.243065</td>\n      <td>0.000000</td>\n      <td>0.000000</td>\n      <td>0.000000</td>\n      <td>0.000000</td>\n      <td>0.000000</td>\n      <td>0.000000</td>\n      <td>...</td>\n      <td>0</td>\n      <td>0</td>\n      <td>0</td>\n      <td>0</td>\n      <td>0</td>\n      <td>0</td>\n      <td>0</td>\n      <td>0</td>\n      <td>0</td>\n      <td>0</td>\n    </tr>\n    <tr>\n      <th>27</th>\n      <td>0.367334</td>\n      <td>0.445310</td>\n      <td>0.104875</td>\n      <td>0.052913</td>\n      <td>0.127384</td>\n      <td>0.335075</td>\n      <td>0.000000</td>\n      <td>0.000000</td>\n      <td>0.440232</td>\n      <td>0.382123</td>\n      <td>...</td>\n      <td>0</td>\n      <td>0</td>\n      <td>0</td>\n      <td>0</td>\n      <td>0</td>\n      <td>0</td>\n      <td>0</td>\n      <td>0</td>\n      <td>0</td>\n      <td>0</td>\n    </tr>\n    <tr>\n      <th>34</th>\n      <td>0.159939</td>\n      <td>0.140409</td>\n      <td>0.047102</td>\n      <td>0.047639</td>\n      <td>0.054442</td>\n      <td>0.074683</td>\n      <td>6.592642</td>\n      <td>0.109283</td>\n      <td>0.164604</td>\n      <td>0.127435</td>\n      <td>...</td>\n      <td>0</td>\n      <td>0</td>\n      <td>0</td>\n      <td>0</td>\n      <td>0</td>\n      <td>0</td>\n      <td>0</td>\n      <td>0</td>\n      <td>0</td>\n      <td>0</td>\n    </tr>\n    <tr>\n      <th>116</th>\n      <td>0.753685</td>\n      <td>0.000000</td>\n      <td>0.000000</td>\n      <td>0.000000</td>\n      <td>0.753688</td>\n      <td>0.000000</td>\n      <td>0.000000</td>\n      <td>0.000000</td>\n      <td>0.000000</td>\n      <td>0.000000</td>\n      <td>...</td>\n      <td>0</td>\n      <td>0</td>\n      <td>0</td>\n      <td>0</td>\n      <td>0</td>\n      <td>0</td>\n      <td>0</td>\n      <td>0</td>\n      <td>0</td>\n      <td>0</td>\n    </tr>\n    <tr>\n      <th>142</th>\n      <td>0.160605</td>\n      <td>0.092519</td>\n      <td>0.000000</td>\n      <td>0.000000</td>\n      <td>0.011732</td>\n      <td>0.045165</td>\n      <td>0.393984</td>\n      <td>0.010732</td>\n      <td>0.132069</td>\n      <td>0.163293</td>\n      <td>...</td>\n      <td>0</td>\n      <td>0</td>\n      <td>0</td>\n      <td>0</td>\n      <td>0</td>\n      <td>0</td>\n      <td>0</td>\n      <td>0</td>\n      <td>0</td>\n      <td>0</td>\n    </tr>\n    <tr>\n      <th>86</th>\n      <td>0.000000</td>\n      <td>0.000000</td>\n      <td>0.000000</td>\n      <td>0.000000</td>\n      <td>0.000000</td>\n      <td>0.000000</td>\n      <td>0.000000</td>\n      <td>0.319649</td>\n      <td>0.000000</td>\n      <td>0.000000</td>\n      <td>...</td>\n      <td>0</td>\n      <td>0</td>\n      <td>0</td>\n      <td>0</td>\n      <td>0</td>\n      <td>0</td>\n      <td>0</td>\n      <td>0</td>\n      <td>0</td>\n      <td>0</td>\n    </tr>\n    <tr>\n      <th>103</th>\n      <td>0.132571</td>\n      <td>0.146705</td>\n      <td>0.000000</td>\n      <td>0.000000</td>\n      <td>0.064529</td>\n      <td>0.498041</td>\n      <td>0.498041</td>\n      <td>0.163655</td>\n      <td>0.177117</td>\n      <td>0.099010</td>\n      <td>...</td>\n      <td>0</td>\n      <td>0</td>\n      <td>0</td>\n      <td>0</td>\n      <td>0</td>\n      <td>0</td>\n      <td>0</td>\n      <td>0</td>\n      <td>0</td>\n      <td>0</td>\n    </tr>\n    <tr>\n      <th>50</th>\n      <td>0.253502</td>\n      <td>0.251522</td>\n      <td>0.127705</td>\n      <td>0.124835</td>\n      <td>0.127705</td>\n      <td>0.127705</td>\n      <td>0.127705</td>\n      <td>0.127705</td>\n      <td>0.172408</td>\n      <td>0.251056</td>\n      <td>...</td>\n      <td>0</td>\n      <td>0</td>\n      <td>0</td>\n      <td>0</td>\n      <td>0</td>\n      <td>0</td>\n      <td>0</td>\n      <td>0</td>\n      <td>0</td>\n      <td>0</td>\n    </tr>\n    <tr>\n      <th>144</th>\n      <td>0.080978</td>\n      <td>0.047872</td>\n      <td>0.000000</td>\n      <td>0.000000</td>\n      <td>0.051306</td>\n      <td>0.025970</td>\n      <td>0.449038</td>\n      <td>0.029372</td>\n      <td>0.075823</td>\n      <td>0.085714</td>\n      <td>...</td>\n      <td>0</td>\n      <td>0</td>\n      <td>0</td>\n      <td>0</td>\n      <td>0</td>\n      <td>0</td>\n      <td>0</td>\n      <td>0</td>\n      <td>0</td>\n      <td>0</td>\n    </tr>\n    <tr>\n      <th>115</th>\n      <td>0.000000</td>\n      <td>0.000000</td>\n      <td>0.000000</td>\n      <td>0.000000</td>\n      <td>0.000000</td>\n      <td>0.000000</td>\n      <td>0.000000</td>\n      <td>0.000000</td>\n      <td>0.000000</td>\n      <td>0.000000</td>\n      <td>...</td>\n      <td>0</td>\n      <td>0</td>\n      <td>0</td>\n      <td>0</td>\n      <td>0</td>\n      <td>0</td>\n      <td>0</td>\n      <td>0</td>\n      <td>0</td>\n      <td>0</td>\n    </tr>\n    <tr>\n      <th>165</th>\n      <td>0.502484</td>\n      <td>0.000000</td>\n      <td>0.000000</td>\n      <td>0.000000</td>\n      <td>0.000000</td>\n      <td>0.000000</td>\n      <td>0.000000</td>\n      <td>0.000000</td>\n      <td>0.000000</td>\n      <td>0.000000</td>\n      <td>...</td>\n      <td>0</td>\n      <td>0</td>\n      <td>0</td>\n      <td>0</td>\n      <td>0</td>\n      <td>0</td>\n      <td>0</td>\n      <td>0</td>\n      <td>0</td>\n      <td>0</td>\n    </tr>\n    <tr>\n      <th>192</th>\n      <td>0.398485</td>\n      <td>0.159065</td>\n      <td>0.140465</td>\n      <td>0.145063</td>\n      <td>0.000000</td>\n      <td>0.154571</td>\n      <td>0.000000</td>\n      <td>0.140790</td>\n      <td>0.369497</td>\n      <td>0.313755</td>\n      <td>...</td>\n      <td>0</td>\n      <td>0</td>\n      <td>0</td>\n      <td>0</td>\n      <td>0</td>\n      <td>0</td>\n      <td>0</td>\n      <td>0</td>\n      <td>0</td>\n      <td>0</td>\n    </tr>\n    <tr>\n      <th>24</th>\n      <td>0.115366</td>\n      <td>0.161305</td>\n      <td>0.047364</td>\n      <td>0.046173</td>\n      <td>0.061065</td>\n      <td>0.107953</td>\n      <td>4.695939</td>\n      <td>0.077872</td>\n      <td>0.126870</td>\n      <td>0.117228</td>\n      <td>...</td>\n      <td>0</td>\n      <td>0</td>\n      <td>0</td>\n      <td>0</td>\n      <td>0</td>\n      <td>0</td>\n      <td>0</td>\n      <td>0</td>\n      <td>0</td>\n      <td>0</td>\n    </tr>\n    <tr>\n      <th>76</th>\n      <td>0.292745</td>\n      <td>0.108941</td>\n      <td>0.101117</td>\n      <td>0.134034</td>\n      <td>0.099961</td>\n      <td>0.103379</td>\n      <td>0.292745</td>\n      <td>0.153222</td>\n      <td>0.292745</td>\n      <td>0.139093</td>\n      <td>...</td>\n      <td>0</td>\n      <td>0</td>\n      <td>0</td>\n      <td>0</td>\n      <td>0</td>\n      <td>0</td>\n      <td>0</td>\n      <td>0</td>\n      <td>0</td>\n      <td>0</td>\n    </tr>\n    <tr>\n      <th>77</th>\n      <td>0.327273</td>\n      <td>0.323796</td>\n      <td>0.191062</td>\n      <td>0.013881</td>\n      <td>0.140134</td>\n      <td>0.244030</td>\n      <td>0.000000</td>\n      <td>0.031394</td>\n      <td>0.294250</td>\n      <td>0.248820</td>\n      <td>...</td>\n      <td>0</td>\n      <td>0</td>\n      <td>0</td>\n      <td>0</td>\n      <td>0</td>\n      <td>0</td>\n      <td>0</td>\n      <td>0</td>\n      <td>0</td>\n      <td>0</td>\n    </tr>\n    <tr>\n      <th>58</th>\n      <td>0.261652</td>\n      <td>0.344637</td>\n      <td>0.154266</td>\n      <td>0.154266</td>\n      <td>0.154266</td>\n      <td>0.154266</td>\n      <td>0.154266</td>\n      <td>0.154266</td>\n      <td>0.402541</td>\n      <td>0.261530</td>\n      <td>...</td>\n      <td>0</td>\n      <td>0</td>\n      <td>0</td>\n      <td>0</td>\n      <td>0</td>\n      <td>0</td>\n      <td>0</td>\n      <td>0</td>\n      <td>0</td>\n      <td>0</td>\n    </tr>\n    <tr>\n      <th>142</th>\n      <td>0.160605</td>\n      <td>0.092519</td>\n      <td>0.000000</td>\n      <td>0.000000</td>\n      <td>0.011732</td>\n      <td>0.045165</td>\n      <td>0.393984</td>\n      <td>0.010732</td>\n      <td>0.132069</td>\n      <td>0.163293</td>\n      <td>...</td>\n      <td>0</td>\n      <td>0</td>\n      <td>0</td>\n      <td>0</td>\n      <td>0</td>\n      <td>0</td>\n      <td>0</td>\n      <td>0</td>\n      <td>0</td>\n      <td>0</td>\n    </tr>\n    <tr>\n      <th>91</th>\n      <td>0.000000</td>\n      <td>0.000000</td>\n      <td>0.000000</td>\n      <td>0.000000</td>\n      <td>0.000000</td>\n      <td>0.000000</td>\n      <td>0.000000</td>\n      <td>0.163536</td>\n      <td>0.000000</td>\n      <td>0.000000</td>\n      <td>...</td>\n      <td>0</td>\n      <td>0</td>\n      <td>0</td>\n      <td>0</td>\n      <td>0</td>\n      <td>0</td>\n      <td>0</td>\n      <td>0</td>\n      <td>0</td>\n      <td>0</td>\n    </tr>\n    <tr>\n      <th>69</th>\n      <td>0.050272</td>\n      <td>0.051156</td>\n      <td>0.000000</td>\n      <td>0.000000</td>\n      <td>0.023593</td>\n      <td>0.025904</td>\n      <td>0.363788</td>\n      <td>0.024568</td>\n      <td>0.067388</td>\n      <td>0.061197</td>\n      <td>...</td>\n      <td>0</td>\n      <td>0</td>\n      <td>0</td>\n      <td>0</td>\n      <td>0</td>\n      <td>0</td>\n      <td>0</td>\n      <td>0</td>\n      <td>0</td>\n      <td>0</td>\n    </tr>\n    <tr>\n      <th>44</th>\n      <td>0.309498</td>\n      <td>0.380244</td>\n      <td>0.104979</td>\n      <td>0.079698</td>\n      <td>0.080039</td>\n      <td>0.226238</td>\n      <td>5.454459</td>\n      <td>0.101605</td>\n      <td>0.361865</td>\n      <td>0.295300</td>\n      <td>...</td>\n      <td>0</td>\n      <td>0</td>\n      <td>0</td>\n      <td>0</td>\n      <td>0</td>\n      <td>0</td>\n      <td>0</td>\n      <td>0</td>\n      <td>0</td>\n      <td>0</td>\n    </tr>\n    <tr>\n      <th>52</th>\n      <td>0.163506</td>\n      <td>0.320201</td>\n      <td>0.154666</td>\n      <td>0.193179</td>\n      <td>0.193179</td>\n      <td>0.193179</td>\n      <td>0.193179</td>\n      <td>0.193179</td>\n      <td>0.310841</td>\n      <td>0.338760</td>\n      <td>...</td>\n      <td>0</td>\n      <td>0</td>\n      <td>0</td>\n      <td>0</td>\n      <td>0</td>\n      <td>0</td>\n      <td>0</td>\n      <td>0</td>\n      <td>0</td>\n      <td>0</td>\n    </tr>\n    <tr>\n      <th>56</th>\n      <td>0.245076</td>\n      <td>0.270329</td>\n      <td>0.125458</td>\n      <td>0.125458</td>\n      <td>0.125458</td>\n      <td>0.125458</td>\n      <td>0.125458</td>\n      <td>0.125458</td>\n      <td>0.244799</td>\n      <td>0.131260</td>\n      <td>...</td>\n      <td>0</td>\n      <td>0</td>\n      <td>0</td>\n      <td>0</td>\n      <td>0</td>\n      <td>0</td>\n      <td>0</td>\n      <td>0</td>\n      <td>0</td>\n      <td>0</td>\n    </tr>\n    <tr>\n      <th>103</th>\n      <td>0.132571</td>\n      <td>0.146705</td>\n      <td>0.000000</td>\n      <td>0.000000</td>\n      <td>0.064529</td>\n      <td>0.498041</td>\n      <td>0.498041</td>\n      <td>0.163655</td>\n      <td>0.177117</td>\n      <td>0.099010</td>\n      <td>...</td>\n      <td>0</td>\n      <td>0</td>\n      <td>0</td>\n      <td>0</td>\n      <td>0</td>\n      <td>0</td>\n      <td>0</td>\n      <td>0</td>\n      <td>0</td>\n      <td>0</td>\n    </tr>\n    <tr>\n      <th>61</th>\n      <td>0.025564</td>\n      <td>0.042574</td>\n      <td>0.000000</td>\n      <td>0.000000</td>\n      <td>0.019969</td>\n      <td>0.015041</td>\n      <td>0.547385</td>\n      <td>0.053765</td>\n      <td>0.045458</td>\n      <td>0.044535</td>\n      <td>...</td>\n      <td>0</td>\n      <td>0</td>\n      <td>0</td>\n      <td>0</td>\n      <td>0</td>\n      <td>0</td>\n      <td>0</td>\n      <td>0</td>\n      <td>0</td>\n      <td>0</td>\n    </tr>\n    <tr>\n      <th>159</th>\n      <td>0.437447</td>\n      <td>0.239905</td>\n      <td>0.000000</td>\n      <td>0.000000</td>\n      <td>0.239905</td>\n      <td>0.239905</td>\n      <td>0.239905</td>\n      <td>0.239905</td>\n      <td>0.437617</td>\n      <td>0.239905</td>\n      <td>...</td>\n      <td>0</td>\n      <td>0</td>\n      <td>0</td>\n      <td>0</td>\n      <td>0</td>\n      <td>0</td>\n      <td>0</td>\n      <td>0</td>\n      <td>0</td>\n      <td>0</td>\n    </tr>\n    <tr>\n      <th>...</th>\n      <td>...</td>\n      <td>...</td>\n      <td>...</td>\n      <td>...</td>\n      <td>...</td>\n      <td>...</td>\n      <td>...</td>\n      <td>...</td>\n      <td>...</td>\n      <td>...</td>\n      <td>...</td>\n      <td>...</td>\n      <td>...</td>\n      <td>...</td>\n      <td>...</td>\n      <td>...</td>\n      <td>...</td>\n      <td>...</td>\n      <td>...</td>\n      <td>...</td>\n      <td>...</td>\n    </tr>\n    <tr>\n      <th>41</th>\n      <td>0.247106</td>\n      <td>0.302933</td>\n      <td>0.076299</td>\n      <td>0.076118</td>\n      <td>0.075940</td>\n      <td>0.134914</td>\n      <td>5.632874</td>\n      <td>0.106561</td>\n      <td>0.236140</td>\n      <td>0.190225</td>\n      <td>...</td>\n      <td>0</td>\n      <td>0</td>\n      <td>0</td>\n      <td>0</td>\n      <td>0</td>\n      <td>0</td>\n      <td>0</td>\n      <td>0</td>\n      <td>0</td>\n      <td>0</td>\n    </tr>\n    <tr>\n      <th>4</th>\n      <td>0.323373</td>\n      <td>0.442617</td>\n      <td>0.318442</td>\n      <td>0.318442</td>\n      <td>0.109609</td>\n      <td>0.128908</td>\n      <td>0.318442</td>\n      <td>0.318442</td>\n      <td>0.293445</td>\n      <td>0.253606</td>\n      <td>...</td>\n      <td>0</td>\n      <td>0</td>\n      <td>0</td>\n      <td>0</td>\n      <td>0</td>\n      <td>0</td>\n      <td>0</td>\n      <td>0</td>\n      <td>0</td>\n      <td>0</td>\n    </tr>\n    <tr>\n      <th>115</th>\n      <td>0.000000</td>\n      <td>0.000000</td>\n      <td>0.000000</td>\n      <td>0.000000</td>\n      <td>0.000000</td>\n      <td>0.000000</td>\n      <td>0.000000</td>\n      <td>0.000000</td>\n      <td>0.000000</td>\n      <td>0.000000</td>\n      <td>...</td>\n      <td>0</td>\n      <td>0</td>\n      <td>0</td>\n      <td>0</td>\n      <td>0</td>\n      <td>0</td>\n      <td>0</td>\n      <td>0</td>\n      <td>0</td>\n      <td>0</td>\n    </tr>\n    <tr>\n      <th>125</th>\n      <td>0.176159</td>\n      <td>0.155663</td>\n      <td>0.155663</td>\n      <td>0.132475</td>\n      <td>0.155663</td>\n      <td>0.155663</td>\n      <td>0.155663</td>\n      <td>0.155663</td>\n      <td>0.155663</td>\n      <td>0.155663</td>\n      <td>...</td>\n      <td>0</td>\n      <td>0</td>\n      <td>0</td>\n      <td>0</td>\n      <td>0</td>\n      <td>0</td>\n      <td>0</td>\n      <td>0</td>\n      <td>0</td>\n      <td>0</td>\n    </tr>\n    <tr>\n      <th>130</th>\n      <td>0.000000</td>\n      <td>0.000000</td>\n      <td>0.000000</td>\n      <td>0.000000</td>\n      <td>0.000000</td>\n      <td>0.000000</td>\n      <td>0.000000</td>\n      <td>0.000000</td>\n      <td>0.000000</td>\n      <td>0.000000</td>\n      <td>...</td>\n      <td>0</td>\n      <td>0</td>\n      <td>0</td>\n      <td>0</td>\n      <td>0</td>\n      <td>0</td>\n      <td>0</td>\n      <td>0</td>\n      <td>0</td>\n      <td>0</td>\n    </tr>\n    <tr>\n      <th>40</th>\n      <td>0.244744</td>\n      <td>0.274418</td>\n      <td>0.077295</td>\n      <td>0.071090</td>\n      <td>0.071279</td>\n      <td>0.162545</td>\n      <td>6.005112</td>\n      <td>0.119498</td>\n      <td>0.234657</td>\n      <td>0.200451</td>\n      <td>...</td>\n      <td>0</td>\n      <td>0</td>\n      <td>0</td>\n      <td>0</td>\n      <td>0</td>\n      <td>0</td>\n      <td>0</td>\n      <td>0</td>\n      <td>0</td>\n      <td>0</td>\n    </tr>\n    <tr>\n      <th>157</th>\n      <td>0.258403</td>\n      <td>0.184393</td>\n      <td>0.000000</td>\n      <td>0.000000</td>\n      <td>0.096544</td>\n      <td>0.096544</td>\n      <td>0.096544</td>\n      <td>0.169009</td>\n      <td>0.179601</td>\n      <td>0.096544</td>\n      <td>...</td>\n      <td>0</td>\n      <td>0</td>\n      <td>0</td>\n      <td>0</td>\n      <td>0</td>\n      <td>0</td>\n      <td>0</td>\n      <td>0</td>\n      <td>0</td>\n      <td>0</td>\n    </tr>\n    <tr>\n      <th>148</th>\n      <td>0.011725</td>\n      <td>0.006819</td>\n      <td>0.000000</td>\n      <td>0.000000</td>\n      <td>0.049825</td>\n      <td>0.006010</td>\n      <td>0.525656</td>\n      <td>0.104699</td>\n      <td>0.009921</td>\n      <td>0.012860</td>\n      <td>...</td>\n      <td>0</td>\n      <td>0</td>\n      <td>0</td>\n      <td>0</td>\n      <td>0</td>\n      <td>0</td>\n      <td>0</td>\n      <td>0</td>\n      <td>0</td>\n      <td>0</td>\n    </tr>\n    <tr>\n      <th>2</th>\n      <td>0.295920</td>\n      <td>0.477482</td>\n      <td>0.304459</td>\n      <td>0.304459</td>\n      <td>0.084021</td>\n      <td>0.121631</td>\n      <td>0.304459</td>\n      <td>0.304459</td>\n      <td>0.333197</td>\n      <td>0.251729</td>\n      <td>...</td>\n      <td>0</td>\n      <td>0</td>\n      <td>0</td>\n      <td>0</td>\n      <td>0</td>\n      <td>0</td>\n      <td>0</td>\n      <td>0</td>\n      <td>0</td>\n      <td>0</td>\n    </tr>\n    <tr>\n      <th>138</th>\n      <td>0.000000</td>\n      <td>0.000000</td>\n      <td>0.000000</td>\n      <td>2.203108</td>\n      <td>0.926718</td>\n      <td>0.000000</td>\n      <td>0.000000</td>\n      <td>0.000000</td>\n      <td>0.000000</td>\n      <td>0.000000</td>\n      <td>...</td>\n      <td>0</td>\n      <td>0</td>\n      <td>0</td>\n      <td>0</td>\n      <td>0</td>\n      <td>0</td>\n      <td>0</td>\n      <td>0</td>\n      <td>0</td>\n      <td>0</td>\n    </tr>\n    <tr>\n      <th>31</th>\n      <td>0.185778</td>\n      <td>0.145662</td>\n      <td>0.049874</td>\n      <td>0.051110</td>\n      <td>0.059591</td>\n      <td>0.063247</td>\n      <td>6.169931</td>\n      <td>0.129748</td>\n      <td>0.205444</td>\n      <td>0.161163</td>\n      <td>...</td>\n      <td>0</td>\n      <td>0</td>\n      <td>0</td>\n      <td>0</td>\n      <td>0</td>\n      <td>0</td>\n      <td>0</td>\n      <td>0</td>\n      <td>0</td>\n      <td>0</td>\n    </tr>\n    <tr>\n      <th>112</th>\n      <td>0.000000</td>\n      <td>0.000000</td>\n      <td>0.000000</td>\n      <td>0.000000</td>\n      <td>0.000000</td>\n      <td>0.000000</td>\n      <td>0.000000</td>\n      <td>0.324281</td>\n      <td>0.000000</td>\n      <td>0.000000</td>\n      <td>...</td>\n      <td>0</td>\n      <td>0</td>\n      <td>0</td>\n      <td>0</td>\n      <td>0</td>\n      <td>0</td>\n      <td>0</td>\n      <td>0</td>\n      <td>0</td>\n      <td>0</td>\n    </tr>\n    <tr>\n      <th>169</th>\n      <td>0.167045</td>\n      <td>0.178769</td>\n      <td>0.000000</td>\n      <td>0.000000</td>\n      <td>0.151289</td>\n      <td>0.083452</td>\n      <td>0.147139</td>\n      <td>0.075587</td>\n      <td>0.152859</td>\n      <td>0.245120</td>\n      <td>...</td>\n      <td>0</td>\n      <td>0</td>\n      <td>0</td>\n      <td>0</td>\n      <td>0</td>\n      <td>0</td>\n      <td>0</td>\n      <td>0</td>\n      <td>0</td>\n      <td>0</td>\n    </tr>\n    <tr>\n      <th>35</th>\n      <td>0.190152</td>\n      <td>0.165841</td>\n      <td>0.055207</td>\n      <td>0.059101</td>\n      <td>0.062052</td>\n      <td>0.105246</td>\n      <td>6.356893</td>\n      <td>0.083362</td>\n      <td>0.193856</td>\n      <td>0.163981</td>\n      <td>...</td>\n      <td>0</td>\n      <td>0</td>\n      <td>0</td>\n      <td>0</td>\n      <td>0</td>\n      <td>0</td>\n      <td>0</td>\n      <td>0</td>\n      <td>0</td>\n      <td>0</td>\n    </tr>\n    <tr>\n      <th>132</th>\n      <td>0.000000</td>\n      <td>0.000000</td>\n      <td>0.000000</td>\n      <td>0.000000</td>\n      <td>0.000000</td>\n      <td>0.000000</td>\n      <td>0.000000</td>\n      <td>0.000000</td>\n      <td>0.000000</td>\n      <td>0.000000</td>\n      <td>...</td>\n      <td>0</td>\n      <td>0</td>\n      <td>0</td>\n      <td>0</td>\n      <td>0</td>\n      <td>0</td>\n      <td>0</td>\n      <td>0</td>\n      <td>0</td>\n      <td>0</td>\n    </tr>\n    <tr>\n      <th>75</th>\n      <td>0.297828</td>\n      <td>0.179803</td>\n      <td>0.219117</td>\n      <td>0.000000</td>\n      <td>0.227948</td>\n      <td>0.179486</td>\n      <td>0.120276</td>\n      <td>0.000000</td>\n      <td>0.297561</td>\n      <td>0.277989</td>\n      <td>...</td>\n      <td>0</td>\n      <td>0</td>\n      <td>0</td>\n      <td>0</td>\n      <td>0</td>\n      <td>0</td>\n      <td>0</td>\n      <td>0</td>\n      <td>0</td>\n      <td>0</td>\n    </tr>\n    <tr>\n      <th>70</th>\n      <td>0.055363</td>\n      <td>0.065261</td>\n      <td>0.000000</td>\n      <td>0.000000</td>\n      <td>0.032715</td>\n      <td>0.033564</td>\n      <td>0.311332</td>\n      <td>0.031299</td>\n      <td>0.080052</td>\n      <td>0.074765</td>\n      <td>...</td>\n      <td>0</td>\n      <td>0</td>\n      <td>0</td>\n      <td>0</td>\n      <td>0</td>\n      <td>0</td>\n      <td>0</td>\n      <td>0</td>\n      <td>0</td>\n      <td>0</td>\n    </tr>\n    <tr>\n      <th>105</th>\n      <td>0.000000</td>\n      <td>0.000000</td>\n      <td>0.000000</td>\n      <td>0.000000</td>\n      <td>0.000000</td>\n      <td>0.000000</td>\n      <td>0.000000</td>\n      <td>7.858883</td>\n      <td>0.000000</td>\n      <td>0.000000</td>\n      <td>...</td>\n      <td>0</td>\n      <td>0</td>\n      <td>0</td>\n      <td>0</td>\n      <td>0</td>\n      <td>0</td>\n      <td>0</td>\n      <td>0</td>\n      <td>0</td>\n      <td>0</td>\n    </tr>\n    <tr>\n      <th>16</th>\n      <td>0.270045</td>\n      <td>0.243746</td>\n      <td>0.000000</td>\n      <td>0.000000</td>\n      <td>0.204535</td>\n      <td>0.281976</td>\n      <td>0.301595</td>\n      <td>0.371294</td>\n      <td>0.207972</td>\n      <td>0.316389</td>\n      <td>...</td>\n      <td>0</td>\n      <td>0</td>\n      <td>0</td>\n      <td>0</td>\n      <td>0</td>\n      <td>0</td>\n      <td>0</td>\n      <td>0</td>\n      <td>0</td>\n      <td>0</td>\n    </tr>\n    <tr>\n      <th>161</th>\n      <td>0.000000</td>\n      <td>0.000000</td>\n      <td>0.000000</td>\n      <td>0.000000</td>\n      <td>0.000000</td>\n      <td>0.000000</td>\n      <td>0.000000</td>\n      <td>0.000000</td>\n      <td>2.206862</td>\n      <td>0.000000</td>\n      <td>...</td>\n      <td>0</td>\n      <td>0</td>\n      <td>0</td>\n      <td>0</td>\n      <td>0</td>\n      <td>0</td>\n      <td>0</td>\n      <td>0</td>\n      <td>0</td>\n      <td>0</td>\n    </tr>\n    <tr>\n      <th>65</th>\n      <td>0.000000</td>\n      <td>0.000000</td>\n      <td>0.000000</td>\n      <td>0.000000</td>\n      <td>0.000000</td>\n      <td>0.000000</td>\n      <td>0.000000</td>\n      <td>0.000000</td>\n      <td>0.000000</td>\n      <td>0.000000</td>\n      <td>...</td>\n      <td>0</td>\n      <td>0</td>\n      <td>0</td>\n      <td>0</td>\n      <td>0</td>\n      <td>0</td>\n      <td>0</td>\n      <td>0</td>\n      <td>0</td>\n      <td>0</td>\n    </tr>\n    <tr>\n      <th>31</th>\n      <td>0.185778</td>\n      <td>0.145662</td>\n      <td>0.049874</td>\n      <td>0.051110</td>\n      <td>0.059591</td>\n      <td>0.063247</td>\n      <td>6.169931</td>\n      <td>0.129748</td>\n      <td>0.205444</td>\n      <td>0.161163</td>\n      <td>...</td>\n      <td>0</td>\n      <td>0</td>\n      <td>0</td>\n      <td>0</td>\n      <td>0</td>\n      <td>0</td>\n      <td>0</td>\n      <td>0</td>\n      <td>0</td>\n      <td>0</td>\n    </tr>\n    <tr>\n      <th>64</th>\n      <td>0.000000</td>\n      <td>0.000000</td>\n      <td>0.000000</td>\n      <td>0.000000</td>\n      <td>0.000000</td>\n      <td>0.000000</td>\n      <td>1.274627</td>\n      <td>0.000000</td>\n      <td>0.000000</td>\n      <td>0.000000</td>\n      <td>...</td>\n      <td>0</td>\n      <td>0</td>\n      <td>0</td>\n      <td>0</td>\n      <td>0</td>\n      <td>0</td>\n      <td>0</td>\n      <td>0</td>\n      <td>0</td>\n      <td>0</td>\n    </tr>\n    <tr>\n      <th>75</th>\n      <td>0.297828</td>\n      <td>0.179803</td>\n      <td>0.219117</td>\n      <td>0.000000</td>\n      <td>0.227948</td>\n      <td>0.179486</td>\n      <td>0.120276</td>\n      <td>0.000000</td>\n      <td>0.297561</td>\n      <td>0.277989</td>\n      <td>...</td>\n      <td>0</td>\n      <td>0</td>\n      <td>0</td>\n      <td>0</td>\n      <td>0</td>\n      <td>0</td>\n      <td>0</td>\n      <td>0</td>\n      <td>0</td>\n      <td>0</td>\n    </tr>\n    <tr>\n      <th>101</th>\n      <td>0.777249</td>\n      <td>0.279816</td>\n      <td>0.000000</td>\n      <td>0.000000</td>\n      <td>0.179334</td>\n      <td>0.059021</td>\n      <td>0.179334</td>\n      <td>0.395256</td>\n      <td>0.684982</td>\n      <td>0.330237</td>\n      <td>...</td>\n      <td>0</td>\n      <td>0</td>\n      <td>0</td>\n      <td>0</td>\n      <td>0</td>\n      <td>0</td>\n      <td>0</td>\n      <td>0</td>\n      <td>0</td>\n      <td>0</td>\n    </tr>\n    <tr>\n      <th>128</th>\n      <td>0.802997</td>\n      <td>0.000000</td>\n      <td>0.000000</td>\n      <td>1.083547</td>\n      <td>0.000000</td>\n      <td>0.000000</td>\n      <td>0.000000</td>\n      <td>0.000000</td>\n      <td>0.000000</td>\n      <td>0.000000</td>\n      <td>...</td>\n      <td>0</td>\n      <td>0</td>\n      <td>0</td>\n      <td>0</td>\n      <td>0</td>\n      <td>0</td>\n      <td>0</td>\n      <td>0</td>\n      <td>0</td>\n      <td>0</td>\n    </tr>\n    <tr>\n      <th>179</th>\n      <td>0.364748</td>\n      <td>0.172889</td>\n      <td>0.142151</td>\n      <td>0.151412</td>\n      <td>0.000000</td>\n      <td>0.170450</td>\n      <td>0.000000</td>\n      <td>0.142691</td>\n      <td>0.349519</td>\n      <td>0.401211</td>\n      <td>...</td>\n      <td>0</td>\n      <td>0</td>\n      <td>0</td>\n      <td>0</td>\n      <td>0</td>\n      <td>0</td>\n      <td>0</td>\n      <td>0</td>\n      <td>0</td>\n      <td>0</td>\n    </tr>\n    <tr>\n      <th>157</th>\n      <td>0.258403</td>\n      <td>0.184393</td>\n      <td>0.000000</td>\n      <td>0.000000</td>\n      <td>0.096544</td>\n      <td>0.096544</td>\n      <td>0.096544</td>\n      <td>0.169009</td>\n      <td>0.179601</td>\n      <td>0.096544</td>\n      <td>...</td>\n      <td>0</td>\n      <td>0</td>\n      <td>0</td>\n      <td>0</td>\n      <td>0</td>\n      <td>0</td>\n      <td>0</td>\n      <td>0</td>\n      <td>0</td>\n      <td>0</td>\n    </tr>\n    <tr>\n      <th>39</th>\n      <td>0.324939</td>\n      <td>0.285035</td>\n      <td>0.103032</td>\n      <td>0.085370</td>\n      <td>0.095896</td>\n      <td>0.208156</td>\n      <td>4.881166</td>\n      <td>0.099384</td>\n      <td>0.310125</td>\n      <td>0.284047</td>\n      <td>...</td>\n      <td>0</td>\n      <td>0</td>\n      <td>0</td>\n      <td>0</td>\n      <td>0</td>\n      <td>0</td>\n      <td>0</td>\n      <td>0</td>\n      <td>0</td>\n      <td>0</td>\n    </tr>\n    <tr>\n      <th>5</th>\n      <td>0.331108</td>\n      <td>0.500344</td>\n      <td>0.320833</td>\n      <td>0.320833</td>\n      <td>0.098375</td>\n      <td>0.123657</td>\n      <td>0.320833</td>\n      <td>0.320833</td>\n      <td>0.317523</td>\n      <td>0.264900</td>\n      <td>...</td>\n      <td>0</td>\n      <td>0</td>\n      <td>0</td>\n      <td>0</td>\n      <td>0</td>\n      <td>0</td>\n      <td>0</td>\n      <td>0</td>\n      <td>0</td>\n      <td>0</td>\n    </tr>\n  </tbody>\n</table>\n<p>2000 rows × 4495 columns</p>\n</div>",
      "text/plain": "        b3356     b2922     b2519     b3823     b3824     b3353     b1500  \\\n29   0.371718  0.547738  0.114015  0.088037  0.160511  0.307009  1.139102   \n21   2.576907  0.000000  0.000000  0.000000  0.000000  0.000000  0.000000   \n173  0.026878  0.032896  0.000000  0.000000  0.016990  0.013722  0.010435   \n2    0.295920  0.477482  0.304459  0.304459  0.084021  0.121631  0.304459   \n66   0.238176  0.247356  0.000000  0.000000  0.357283  0.902854  0.113167   \n135  0.539999  0.000000  0.000000  2.243065  0.000000  0.000000  0.000000   \n27   0.367334  0.445310  0.104875  0.052913  0.127384  0.335075  0.000000   \n34   0.159939  0.140409  0.047102  0.047639  0.054442  0.074683  6.592642   \n116  0.753685  0.000000  0.000000  0.000000  0.753688  0.000000  0.000000   \n142  0.160605  0.092519  0.000000  0.000000  0.011732  0.045165  0.393984   \n86   0.000000  0.000000  0.000000  0.000000  0.000000  0.000000  0.000000   \n103  0.132571  0.146705  0.000000  0.000000  0.064529  0.498041  0.498041   \n50   0.253502  0.251522  0.127705  0.124835  0.127705  0.127705  0.127705   \n144  0.080978  0.047872  0.000000  0.000000  0.051306  0.025970  0.449038   \n115  0.000000  0.000000  0.000000  0.000000  0.000000  0.000000  0.000000   \n165  0.502484  0.000000  0.000000  0.000000  0.000000  0.000000  0.000000   \n192  0.398485  0.159065  0.140465  0.145063  0.000000  0.154571  0.000000   \n24   0.115366  0.161305  0.047364  0.046173  0.061065  0.107953  4.695939   \n76   0.292745  0.108941  0.101117  0.134034  0.099961  0.103379  0.292745   \n77   0.327273  0.323796  0.191062  0.013881  0.140134  0.244030  0.000000   \n58   0.261652  0.344637  0.154266  0.154266  0.154266  0.154266  0.154266   \n142  0.160605  0.092519  0.000000  0.000000  0.011732  0.045165  0.393984   \n91   0.000000  0.000000  0.000000  0.000000  0.000000  0.000000  0.000000   \n69   0.050272  0.051156  0.000000  0.000000  0.023593  0.025904  0.363788   \n44   0.309498  0.380244  0.104979  0.079698  0.080039  0.226238  5.454459   \n52   0.163506  0.320201  0.154666  0.193179  0.193179  0.193179  0.193179   \n56   0.245076  0.270329  0.125458  0.125458  0.125458  0.125458  0.125458   \n103  0.132571  0.146705  0.000000  0.000000  0.064529  0.498041  0.498041   \n61   0.025564  0.042574  0.000000  0.000000  0.019969  0.015041  0.547385   \n159  0.437447  0.239905  0.000000  0.000000  0.239905  0.239905  0.239905   \n..        ...       ...       ...       ...       ...       ...       ...   \n41   0.247106  0.302933  0.076299  0.076118  0.075940  0.134914  5.632874   \n4    0.323373  0.442617  0.318442  0.318442  0.109609  0.128908  0.318442   \n115  0.000000  0.000000  0.000000  0.000000  0.000000  0.000000  0.000000   \n125  0.176159  0.155663  0.155663  0.132475  0.155663  0.155663  0.155663   \n130  0.000000  0.000000  0.000000  0.000000  0.000000  0.000000  0.000000   \n40   0.244744  0.274418  0.077295  0.071090  0.071279  0.162545  6.005112   \n157  0.258403  0.184393  0.000000  0.000000  0.096544  0.096544  0.096544   \n148  0.011725  0.006819  0.000000  0.000000  0.049825  0.006010  0.525656   \n2    0.295920  0.477482  0.304459  0.304459  0.084021  0.121631  0.304459   \n138  0.000000  0.000000  0.000000  2.203108  0.926718  0.000000  0.000000   \n31   0.185778  0.145662  0.049874  0.051110  0.059591  0.063247  6.169931   \n112  0.000000  0.000000  0.000000  0.000000  0.000000  0.000000  0.000000   \n169  0.167045  0.178769  0.000000  0.000000  0.151289  0.083452  0.147139   \n35   0.190152  0.165841  0.055207  0.059101  0.062052  0.105246  6.356893   \n132  0.000000  0.000000  0.000000  0.000000  0.000000  0.000000  0.000000   \n75   0.297828  0.179803  0.219117  0.000000  0.227948  0.179486  0.120276   \n70   0.055363  0.065261  0.000000  0.000000  0.032715  0.033564  0.311332   \n105  0.000000  0.000000  0.000000  0.000000  0.000000  0.000000  0.000000   \n16   0.270045  0.243746  0.000000  0.000000  0.204535  0.281976  0.301595   \n161  0.000000  0.000000  0.000000  0.000000  0.000000  0.000000  0.000000   \n65   0.000000  0.000000  0.000000  0.000000  0.000000  0.000000  0.000000   \n31   0.185778  0.145662  0.049874  0.051110  0.059591  0.063247  6.169931   \n64   0.000000  0.000000  0.000000  0.000000  0.000000  0.000000  1.274627   \n75   0.297828  0.179803  0.219117  0.000000  0.227948  0.179486  0.120276   \n101  0.777249  0.279816  0.000000  0.000000  0.179334  0.059021  0.179334   \n128  0.802997  0.000000  0.000000  1.083547  0.000000  0.000000  0.000000   \n179  0.364748  0.172889  0.142151  0.151412  0.000000  0.170450  0.000000   \n157  0.258403  0.184393  0.000000  0.000000  0.096544  0.096544  0.096544   \n39   0.324939  0.285035  0.103032  0.085370  0.095896  0.208156  4.881166   \n5    0.331108  0.500344  0.320833  0.320833  0.098375  0.123657  0.320833   \n\n        b2923     b2513     b2512  ...  b4673  b4684  b4689  b4685  b4683  \\\n29   0.000000  0.407671  0.346156  ...      0      0      0      0      0   \n21   0.000000  6.254210  0.000000  ...      0      0      0      0      0   \n173  0.012775  0.026635  0.030571  ...      0      0      0      0      0   \n2    0.304459  0.333197  0.251729  ...      0      0      0      0      0   \n66   0.113167  0.248575  0.271077  ...      0      0      0      0      0   \n135  0.000000  0.000000  0.000000  ...      0      0      0      0      0   \n27   0.000000  0.440232  0.382123  ...      0      0      0      0      0   \n34   0.109283  0.164604  0.127435  ...      0      0      0      0      0   \n116  0.000000  0.000000  0.000000  ...      0      0      0      0      0   \n142  0.010732  0.132069  0.163293  ...      0      0      0      0      0   \n86   0.319649  0.000000  0.000000  ...      0      0      0      0      0   \n103  0.163655  0.177117  0.099010  ...      0      0      0      0      0   \n50   0.127705  0.172408  0.251056  ...      0      0      0      0      0   \n144  0.029372  0.075823  0.085714  ...      0      0      0      0      0   \n115  0.000000  0.000000  0.000000  ...      0      0      0      0      0   \n165  0.000000  0.000000  0.000000  ...      0      0      0      0      0   \n192  0.140790  0.369497  0.313755  ...      0      0      0      0      0   \n24   0.077872  0.126870  0.117228  ...      0      0      0      0      0   \n76   0.153222  0.292745  0.139093  ...      0      0      0      0      0   \n77   0.031394  0.294250  0.248820  ...      0      0      0      0      0   \n58   0.154266  0.402541  0.261530  ...      0      0      0      0      0   \n142  0.010732  0.132069  0.163293  ...      0      0      0      0      0   \n91   0.163536  0.000000  0.000000  ...      0      0      0      0      0   \n69   0.024568  0.067388  0.061197  ...      0      0      0      0      0   \n44   0.101605  0.361865  0.295300  ...      0      0      0      0      0   \n52   0.193179  0.310841  0.338760  ...      0      0      0      0      0   \n56   0.125458  0.244799  0.131260  ...      0      0      0      0      0   \n103  0.163655  0.177117  0.099010  ...      0      0      0      0      0   \n61   0.053765  0.045458  0.044535  ...      0      0      0      0      0   \n159  0.239905  0.437617  0.239905  ...      0      0      0      0      0   \n..        ...       ...       ...  ...    ...    ...    ...    ...    ...   \n41   0.106561  0.236140  0.190225  ...      0      0      0      0      0   \n4    0.318442  0.293445  0.253606  ...      0      0      0      0      0   \n115  0.000000  0.000000  0.000000  ...      0      0      0      0      0   \n125  0.155663  0.155663  0.155663  ...      0      0      0      0      0   \n130  0.000000  0.000000  0.000000  ...      0      0      0      0      0   \n40   0.119498  0.234657  0.200451  ...      0      0      0      0      0   \n157  0.169009  0.179601  0.096544  ...      0      0      0      0      0   \n148  0.104699  0.009921  0.012860  ...      0      0      0      0      0   \n2    0.304459  0.333197  0.251729  ...      0      0      0      0      0   \n138  0.000000  0.000000  0.000000  ...      0      0      0      0      0   \n31   0.129748  0.205444  0.161163  ...      0      0      0      0      0   \n112  0.324281  0.000000  0.000000  ...      0      0      0      0      0   \n169  0.075587  0.152859  0.245120  ...      0      0      0      0      0   \n35   0.083362  0.193856  0.163981  ...      0      0      0      0      0   \n132  0.000000  0.000000  0.000000  ...      0      0      0      0      0   \n75   0.000000  0.297561  0.277989  ...      0      0      0      0      0   \n70   0.031299  0.080052  0.074765  ...      0      0      0      0      0   \n105  7.858883  0.000000  0.000000  ...      0      0      0      0      0   \n16   0.371294  0.207972  0.316389  ...      0      0      0      0      0   \n161  0.000000  2.206862  0.000000  ...      0      0      0      0      0   \n65   0.000000  0.000000  0.000000  ...      0      0      0      0      0   \n31   0.129748  0.205444  0.161163  ...      0      0      0      0      0   \n64   0.000000  0.000000  0.000000  ...      0      0      0      0      0   \n75   0.000000  0.297561  0.277989  ...      0      0      0      0      0   \n101  0.395256  0.684982  0.330237  ...      0      0      0      0      0   \n128  0.000000  0.000000  0.000000  ...      0      0      0      0      0   \n179  0.142691  0.349519  0.401211  ...      0      0      0      0      0   \n157  0.169009  0.179601  0.096544  ...      0      0      0      0      0   \n39   0.099384  0.310125  0.284047  ...      0      0      0      0      0   \n5    0.320833  0.317523  0.264900  ...      0      0      0      0      0   \n\n     b4682  b4699  b4698  b4704  b4703  \n29       0      0      0      0      0  \n21       0      0      0      0      0  \n173      0      0      0      0      0  \n2        0      0      0      0      0  \n66       0      0      0      0      0  \n135      0      0      0      0      0  \n27       0      0      0      0      0  \n34       0      0      0      0      0  \n116      0      0      0      0      0  \n142      0      0      0      0      0  \n86       0      0      0      0      0  \n103      0      0      0      0      0  \n50       0      0      0      0      0  \n144      0      0      0      0      0  \n115      0      0      0      0      0  \n165      0      0      0      0      0  \n192      0      0      0      0      0  \n24       0      0      0      0      0  \n76       0      0      0      0      0  \n77       0      0      0      0      0  \n58       0      0      0      0      0  \n142      0      0      0      0      0  \n91       0      0      0      0      0  \n69       0      0      0      0      0  \n44       0      0      0      0      0  \n52       0      0      0      0      0  \n56       0      0      0      0      0  \n103      0      0      0      0      0  \n61       0      0      0      0      0  \n159      0      0      0      0      0  \n..     ...    ...    ...    ...    ...  \n41       0      0      0      0      0  \n4        0      0      0      0      0  \n115      0      0      0      0      0  \n125      0      0      0      0      0  \n130      0      0      0      0      0  \n40       0      0      0      0      0  \n157      0      0      0      0      0  \n148      0      0      0      0      0  \n2        0      0      0      0      0  \n138      0      0      0      0      0  \n31       0      0      0      0      0  \n112      0      0      0      0      0  \n169      0      0      0      0      0  \n35       0      0      0      0      0  \n132      0      0      0      0      0  \n75       0      0      0      0      0  \n70       0      0      0      0      0  \n105      0      0      0      0      0  \n16       0      0      0      0      0  \n161      0      0      0      0      0  \n65       0      0      0      0      0  \n31       0      0      0      0      0  \n64       0      0      0      0      0  \n75       0      0      0      0      0  \n101      0      0      0      0      0  \n128      0      0      0      0      0  \n179      0      0      0      0      0  \n157      0      0      0      0      0  \n39       0      0      0      0      0  \n5        0      0      0      0      0  \n\n[2000 rows x 4495 columns]"
     },
     "execution_count": 240,
     "metadata": {},
     "output_type": "execute_result"
    }
   ],
   "source": [
    "x_sampled"
   ]
  },
  {
   "cell_type": "code",
   "execution_count": null,
   "metadata": {},
   "outputs": [],
   "source": []
  }
 ]
}