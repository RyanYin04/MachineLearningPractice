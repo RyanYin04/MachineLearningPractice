{
 "nbformat": 4,
 "nbformat_minor": 2,
 "metadata": {
  "language_info": {
   "name": "python",
   "codemirror_mode": {
    "name": "ipython",
    "version": 3
   },
   "version": "3.7.3"
  },
  "orig_nbformat": 2,
  "file_extension": ".py",
  "mimetype": "text/x-python",
  "name": "python",
  "npconvert_exporter": "python",
  "pygments_lexer": "ipython3",
  "version": 3
 },
 "cells": [
  {
   "cell_type": "code",
   "execution_count": 8,
   "metadata": {},
   "outputs": [],
   "source": [
    "import numpy as np\n",
    "import pandas as pd\n",
    "from sklearn.linear_model import ElasticNetCV"
   ]
  },
  {
   "cell_type": "markdown",
   "execution_count": null,
   "metadata": {},
   "outputs": [],
   "source": [
    "Load the data"
   ]
  },
  {
   "cell_type": "code",
   "execution_count": 74,
   "metadata": {},
   "outputs": [
    {
     "name": "stdout",
     "output_type": "stream",
     "text": "(194, 4502)\n"
    },
    {
     "data": {
      "text/html": "<div>\n<style scoped>\n    .dataframe tbody tr th:only-of-type {\n        vertical-align: middle;\n    }\n\n    .dataframe tbody tr th {\n        vertical-align: top;\n    }\n\n    .dataframe thead th {\n        text-align: right;\n    }\n</style>\n<table border=\"1\" class=\"dataframe\">\n  <thead>\n    <tr style=\"text-align: right;\">\n      <th></th>\n      <th>ID</th>\n      <th>Strain</th>\n      <th>Medium</th>\n      <th>Stress</th>\n      <th>GenePerturbed</th>\n      <th>GrowthRate</th>\n      <th>b3356</th>\n      <th>b2922</th>\n      <th>b2519</th>\n      <th>b3823</th>\n      <th>...</th>\n      <th>b4684</th>\n      <th>b4689</th>\n      <th>b4685</th>\n      <th>b4683</th>\n      <th>b4682</th>\n      <th>b4699</th>\n      <th>b4698</th>\n      <th>b4704</th>\n      <th>b4703</th>\n      <th>b4635</th>\n    </tr>\n  </thead>\n  <tbody>\n    <tr>\n      <th>0</th>\n      <td>T8129</td>\n      <td>MG1655</td>\n      <td>MD001</td>\n      <td>none</td>\n      <td>oxyR_KO</td>\n      <td>0.637</td>\n      <td>0.304790</td>\n      <td>0.506615</td>\n      <td>0.289473</td>\n      <td>0.289473</td>\n      <td>...</td>\n      <td>0</td>\n      <td>0</td>\n      <td>0</td>\n      <td>0</td>\n      <td>0</td>\n      <td>0</td>\n      <td>0</td>\n      <td>0</td>\n      <td>0</td>\n      <td>NaN</td>\n    </tr>\n    <tr>\n      <th>1</th>\n      <td>T8130</td>\n      <td>MG1655</td>\n      <td>MD001</td>\n      <td>none</td>\n      <td>oxyR_KO</td>\n      <td>0.637</td>\n      <td>0.361095</td>\n      <td>0.582885</td>\n      <td>0.259295</td>\n      <td>0.259295</td>\n      <td>...</td>\n      <td>0</td>\n      <td>0</td>\n      <td>0</td>\n      <td>0</td>\n      <td>0</td>\n      <td>0</td>\n      <td>0</td>\n      <td>0</td>\n      <td>0</td>\n      <td>8</td>\n    </tr>\n    <tr>\n      <th>2</th>\n      <td>T8131</td>\n      <td>MG1655</td>\n      <td>MD001</td>\n      <td>none</td>\n      <td>oxyR_KO</td>\n      <td>0.637</td>\n      <td>0.295920</td>\n      <td>0.477482</td>\n      <td>0.304459</td>\n      <td>0.304459</td>\n      <td>...</td>\n      <td>0</td>\n      <td>0</td>\n      <td>0</td>\n      <td>0</td>\n      <td>0</td>\n      <td>0</td>\n      <td>0</td>\n      <td>0</td>\n      <td>0</td>\n      <td></td>\n    </tr>\n    <tr>\n      <th>3</th>\n      <td>T8135</td>\n      <td>MG1655</td>\n      <td>MD001</td>\n      <td>none</td>\n      <td>soxS_KO</td>\n      <td>0.724</td>\n      <td>0.332041</td>\n      <td>0.554672</td>\n      <td>0.308533</td>\n      <td>0.308533</td>\n      <td>...</td>\n      <td>0</td>\n      <td>0</td>\n      <td>0</td>\n      <td>0</td>\n      <td>0</td>\n      <td>0</td>\n      <td>0</td>\n      <td>0</td>\n      <td>0</td>\n      <td>0</td>\n    </tr>\n    <tr>\n      <th>4</th>\n      <td>T8136</td>\n      <td>MG1655</td>\n      <td>MD001</td>\n      <td>none</td>\n      <td>soxS_KO</td>\n      <td>0.724</td>\n      <td>0.323373</td>\n      <td>0.442617</td>\n      <td>0.318442</td>\n      <td>0.318442</td>\n      <td>...</td>\n      <td>0</td>\n      <td>0</td>\n      <td>0</td>\n      <td>0</td>\n      <td>0</td>\n      <td>0</td>\n      <td>0</td>\n      <td>0</td>\n      <td>0</td>\n      <td>NaN</td>\n    </tr>\n  </tbody>\n</table>\n<p>5 rows × 4502 columns</p>\n</div>",
      "text/plain": "      ID  Strain Medium Stress GenePerturbed  GrowthRate     b3356     b2922  \\\n0  T8129  MG1655  MD001   none       oxyR_KO       0.637  0.304790  0.506615   \n1  T8130  MG1655  MD001   none       oxyR_KO       0.637  0.361095  0.582885   \n2  T8131  MG1655  MD001   none       oxyR_KO       0.637  0.295920  0.477482   \n3  T8135  MG1655  MD001   none       soxS_KO       0.724  0.332041  0.554672   \n4  T8136  MG1655  MD001   none       soxS_KO       0.724  0.323373  0.442617   \n\n      b2519     b3823  ...  b4684  b4689  b4685  b4683  b4682  b4699  b4698  \\\n0  0.289473  0.289473  ...      0      0      0      0      0      0      0   \n1  0.259295  0.259295  ...      0      0      0      0      0      0      0   \n2  0.304459  0.304459  ...      0      0      0      0      0      0      0   \n3  0.308533  0.308533  ...      0      0      0      0      0      0      0   \n4  0.318442  0.318442  ...      0      0      0      0      0      0      0   \n\n   b4704  b4703  b4635  \n0      0      0    NaN  \n1      0      0      8  \n2      0      0      \n  \n3      0      0      0  \n4      0      0    NaN  \n\n[5 rows x 4502 columns]"
     },
     "execution_count": 74,
     "metadata": {},
     "output_type": "execute_result"
    }
   ],
   "source": [
    "bac = pd.read_csv('data/ecs171.dataset.txt', sep = '\\s+' )\n",
    "print(bac.shape)\n",
    "bac.head()"
   ]
  },
  {
   "cell_type": "markdown",
   "execution_count": null,
   "metadata": {},
   "outputs": [],
   "source": [
    "Notice there are some NaNs in data set. I set any NaN as 0 indicating the related gene did not express."
   ]
  },
  {
   "cell_type": "code",
   "execution_count": 87,
   "metadata": {},
   "outputs": [
    {
     "data": {
      "text/html": "<div>\n<style scoped>\n    .dataframe tbody tr th:only-of-type {\n        vertical-align: middle;\n    }\n\n    .dataframe tbody tr th {\n        vertical-align: top;\n    }\n\n    .dataframe thead th {\n        text-align: right;\n    }\n</style>\n<table border=\"1\" class=\"dataframe\">\n  <thead>\n    <tr style=\"text-align: right;\">\n      <th></th>\n      <th>ID</th>\n      <th>Strain</th>\n      <th>Medium</th>\n      <th>Stress</th>\n      <th>GenePerturbed</th>\n      <th>GrowthRate</th>\n      <th>b3356</th>\n      <th>b2922</th>\n      <th>b2519</th>\n      <th>b3823</th>\n      <th>...</th>\n      <th>b4684</th>\n      <th>b4689</th>\n      <th>b4685</th>\n      <th>b4683</th>\n      <th>b4682</th>\n      <th>b4699</th>\n      <th>b4698</th>\n      <th>b4704</th>\n      <th>b4703</th>\n      <th>b4635</th>\n    </tr>\n  </thead>\n  <tbody>\n    <tr>\n      <th>0</th>\n      <td>T8129</td>\n      <td>MG1655</td>\n      <td>MD001</td>\n      <td>none</td>\n      <td>oxyR_KO</td>\n      <td>0.637</td>\n      <td>0.304790</td>\n      <td>0.506615</td>\n      <td>0.289473</td>\n      <td>0.289473</td>\n      <td>...</td>\n      <td>0</td>\n      <td>0</td>\n      <td>0</td>\n      <td>0</td>\n      <td>0</td>\n      <td>0</td>\n      <td>0</td>\n      <td>0</td>\n      <td>0</td>\n      <td>0</td>\n    </tr>\n    <tr>\n      <th>1</th>\n      <td>T8130</td>\n      <td>MG1655</td>\n      <td>MD001</td>\n      <td>none</td>\n      <td>oxyR_KO</td>\n      <td>0.637</td>\n      <td>0.361095</td>\n      <td>0.582885</td>\n      <td>0.259295</td>\n      <td>0.259295</td>\n      <td>...</td>\n      <td>0</td>\n      <td>0</td>\n      <td>0</td>\n      <td>0</td>\n      <td>0</td>\n      <td>0</td>\n      <td>0</td>\n      <td>0</td>\n      <td>0</td>\n      <td>8</td>\n    </tr>\n    <tr>\n      <th>2</th>\n      <td>T8131</td>\n      <td>MG1655</td>\n      <td>MD001</td>\n      <td>none</td>\n      <td>oxyR_KO</td>\n      <td>0.637</td>\n      <td>0.295920</td>\n      <td>0.477482</td>\n      <td>0.304459</td>\n      <td>0.304459</td>\n      <td>...</td>\n      <td>0</td>\n      <td>0</td>\n      <td>0</td>\n      <td>0</td>\n      <td>0</td>\n      <td>0</td>\n      <td>0</td>\n      <td>0</td>\n      <td>0</td>\n      <td>0</td>\n    </tr>\n    <tr>\n      <th>3</th>\n      <td>T8135</td>\n      <td>MG1655</td>\n      <td>MD001</td>\n      <td>none</td>\n      <td>soxS_KO</td>\n      <td>0.724</td>\n      <td>0.332041</td>\n      <td>0.554672</td>\n      <td>0.308533</td>\n      <td>0.308533</td>\n      <td>...</td>\n      <td>0</td>\n      <td>0</td>\n      <td>0</td>\n      <td>0</td>\n      <td>0</td>\n      <td>0</td>\n      <td>0</td>\n      <td>0</td>\n      <td>0</td>\n      <td>0</td>\n    </tr>\n    <tr>\n      <th>4</th>\n      <td>T8136</td>\n      <td>MG1655</td>\n      <td>MD001</td>\n      <td>none</td>\n      <td>soxS_KO</td>\n      <td>0.724</td>\n      <td>0.323373</td>\n      <td>0.442617</td>\n      <td>0.318442</td>\n      <td>0.318442</td>\n      <td>...</td>\n      <td>0</td>\n      <td>0</td>\n      <td>0</td>\n      <td>0</td>\n      <td>0</td>\n      <td>0</td>\n      <td>0</td>\n      <td>0</td>\n      <td>0</td>\n      <td>0</td>\n    </tr>\n  </tbody>\n</table>\n<p>5 rows × 4502 columns</p>\n</div>",
      "text/plain": "      ID  Strain Medium Stress GenePerturbed  GrowthRate     b3356     b2922  \\\n0  T8129  MG1655  MD001   none       oxyR_KO       0.637  0.304790  0.506615   \n1  T8130  MG1655  MD001   none       oxyR_KO       0.637  0.361095  0.582885   \n2  T8131  MG1655  MD001   none       oxyR_KO       0.637  0.295920  0.477482   \n3  T8135  MG1655  MD001   none       soxS_KO       0.724  0.332041  0.554672   \n4  T8136  MG1655  MD001   none       soxS_KO       0.724  0.323373  0.442617   \n\n      b2519     b3823  ...  b4684  b4689  b4685  b4683  b4682  b4699  b4698  \\\n0  0.289473  0.289473  ...      0      0      0      0      0      0      0   \n1  0.259295  0.259295  ...      0      0      0      0      0      0      0   \n2  0.304459  0.304459  ...      0      0      0      0      0      0      0   \n3  0.308533  0.308533  ...      0      0      0      0      0      0      0   \n4  0.318442  0.318442  ...      0      0      0      0      0      0      0   \n\n   b4704  b4703  b4635  \n0      0      0      0  \n1      0      0      8  \n2      0      0      0  \n3      0      0      0  \n4      0      0      0  \n\n[5 rows x 4502 columns]"
     },
     "execution_count": 87,
     "metadata": {},
     "output_type": "execute_result"
    }
   ],
   "source": [
    "bac.fillna(0, inplace = True)\n",
    "bac.replace(['\\x0c', '\\x03', '_', '.', '\\x0f'], 0, inplace = True)\n",
    "bac.head()"
   ]
  },
  {
   "cell_type": "code",
   "execution_count": 88,
   "metadata": {},
   "outputs": [],
   "source": [
    "y = bac.GrowthRate\n",
    "x = bac.iloc[:,6: ]"
   ]
  },
  {
   "cell_type": "markdown",
   "execution_count": null,
   "metadata": {},
   "outputs": [],
   "source": [
    "## Elastic Net CV:"
   ]
  },
  {
   "cell_type": "code",
   "execution_count": 89,
   "metadata": {},
   "outputs": [],
   "source": [
    "regr = ElasticNetCV(cv = 5, random_state = 256)"
   ]
  },
  {
   "cell_type": "code",
   "execution_count": 90,
   "metadata": {},
   "outputs": [
    {
     "name": "stderr",
     "output_type": "stream",
     "text": "/Users/yry/anaconda3/lib/python3.7/site-packages/sklearn/linear_model/coordinate_descent.py:475: ConvergenceWarning: Objective did not converge. You might want to increase the number of iterations. Duality gap: 0.001019308447458983, tolerance: 0.0009332232554838712\n  positive)\n/Users/yry/anaconda3/lib/python3.7/site-packages/sklearn/linear_model/coordinate_descent.py:475: ConvergenceWarning: Objective did not converge. You might want to increase the number of iterations. Duality gap: 0.001204429286968206, tolerance: 0.0009332232554838712\n  positive)\n/Users/yry/anaconda3/lib/python3.7/site-packages/sklearn/linear_model/coordinate_descent.py:475: ConvergenceWarning: Objective did not converge. You might want to increase the number of iterations. Duality gap: 0.003137233419475527, tolerance: 0.0009332232554838712\n  positive)\n/Users/yry/anaconda3/lib/python3.7/site-packages/sklearn/linear_model/coordinate_descent.py:475: ConvergenceWarning: Objective did not converge. You might want to increase the number of iterations. Duality gap: 0.011588366443755993, tolerance: 0.0009332232554838712\n  positive)\n/Users/yry/anaconda3/lib/python3.7/site-packages/sklearn/linear_model/coordinate_descent.py:475: ConvergenceWarning: Objective did not converge. You might want to increase the number of iterations. Duality gap: 0.012096145280720325, tolerance: 0.0009332232554838712\n  positive)\n/Users/yry/anaconda3/lib/python3.7/site-packages/sklearn/linear_model/coordinate_descent.py:475: ConvergenceWarning: Objective did not converge. You might want to increase the number of iterations. Duality gap: 0.010977046200629503, tolerance: 0.0009332232554838712\n  positive)\n/Users/yry/anaconda3/lib/python3.7/site-packages/sklearn/linear_model/coordinate_descent.py:475: ConvergenceWarning: Objective did not converge. You might want to increase the number of iterations. Duality gap: 0.006576393491795021, tolerance: 0.0009332232554838712\n  positive)\n/Users/yry/anaconda3/lib/python3.7/site-packages/sklearn/linear_model/coordinate_descent.py:475: ConvergenceWarning: Objective did not converge. You might want to increase the number of iterations. Duality gap: 0.009538310542793457, tolerance: 0.0009332232554838712\n  positive)\n/Users/yry/anaconda3/lib/python3.7/site-packages/sklearn/linear_model/coordinate_descent.py:475: ConvergenceWarning: Objective did not converge. You might want to increase the number of iterations. Duality gap: 0.010151397703065196, tolerance: 0.0009332232554838712\n  positive)\n/Users/yry/anaconda3/lib/python3.7/site-packages/sklearn/linear_model/coordinate_descent.py:475: ConvergenceWarning: Objective did not converge. You might want to increase the number of iterations. Duality gap: 0.009280794057420029, tolerance: 0.0009332232554838712\n  positive)\n/Users/yry/anaconda3/lib/python3.7/site-packages/sklearn/linear_model/coordinate_descent.py:475: ConvergenceWarning: Objective did not converge. You might want to increase the number of iterations. Duality gap: 0.0020075551962035754, tolerance: 0.0009183752541935484\n  positive)\n/Users/yry/anaconda3/lib/python3.7/site-packages/sklearn/linear_model/coordinate_descent.py:475: ConvergenceWarning: Objective did not converge. You might want to increase the number of iterations. Duality gap: 0.004417973646614032, tolerance: 0.0009183752541935484\n  positive)\n/Users/yry/anaconda3/lib/python3.7/site-packages/sklearn/linear_model/coordinate_descent.py:475: ConvergenceWarning: Objective did not converge. You might want to increase the number of iterations. Duality gap: 0.0037490291186895175, tolerance: 0.0009183752541935484\n  positive)\n/Users/yry/anaconda3/lib/python3.7/site-packages/sklearn/linear_model/coordinate_descent.py:475: ConvergenceWarning: Objective did not converge. You might want to increase the number of iterations. Duality gap: 0.001139181038466358, tolerance: 0.0009183752541935484\n  positive)\n/Users/yry/anaconda3/lib/python3.7/site-packages/sklearn/linear_model/coordinate_descent.py:475: ConvergenceWarning: Objective did not converge. You might want to increase the number of iterations. Duality gap: 0.002591973178173043, tolerance: 0.0009183752541935484\n  positive)\n/Users/yry/anaconda3/lib/python3.7/site-packages/sklearn/linear_model/coordinate_descent.py:475: ConvergenceWarning: Objective did not converge. You might want to increase the number of iterations. Duality gap: 0.0037655210137848664, tolerance: 0.0009183752541935484\n  positive)\n/Users/yry/anaconda3/lib/python3.7/site-packages/sklearn/linear_model/coordinate_descent.py:475: ConvergenceWarning: Objective did not converge. You might want to increase the number of iterations. Duality gap: 0.00474305730363464, tolerance: 0.0009183752541935484\n  positive)\n/Users/yry/anaconda3/lib/python3.7/site-packages/sklearn/linear_model/coordinate_descent.py:475: ConvergenceWarning: Objective did not converge. You might want to increase the number of iterations. Duality gap: 0.0008619073078037082, tolerance: 0.0004927406477419355\n  positive)\n/Users/yry/anaconda3/lib/python3.7/site-packages/sklearn/linear_model/coordinate_descent.py:475: ConvergenceWarning: Objective did not converge. You might want to increase the number of iterations. Duality gap: 0.0021209908585556325, tolerance: 0.0004927406477419355\n  positive)\n/Users/yry/anaconda3/lib/python3.7/site-packages/sklearn/linear_model/coordinate_descent.py:475: ConvergenceWarning: Objective did not converge. You might want to increase the number of iterations. Duality gap: 0.003252918129456231, tolerance: 0.0004927406477419355\n  positive)\n/Users/yry/anaconda3/lib/python3.7/site-packages/sklearn/linear_model/coordinate_descent.py:475: ConvergenceWarning: Objective did not converge. You might want to increase the number of iterations. Duality gap: 0.004010891183962438, tolerance: 0.0004927406477419355\n  positive)\n/Users/yry/anaconda3/lib/python3.7/site-packages/sklearn/linear_model/coordinate_descent.py:475: ConvergenceWarning: Objective did not converge. You might want to increase the number of iterations. Duality gap: 0.004779759462908942, tolerance: 0.0004927406477419355\n  positive)\n/Users/yry/anaconda3/lib/python3.7/site-packages/sklearn/linear_model/coordinate_descent.py:475: ConvergenceWarning: Objective did not converge. You might want to increase the number of iterations. Duality gap: 0.004848027313021433, tolerance: 0.0004927406477419355\n  positive)\n/Users/yry/anaconda3/lib/python3.7/site-packages/sklearn/linear_model/coordinate_descent.py:475: ConvergenceWarning: Objective did not converge. You might want to increase the number of iterations. Duality gap: 0.004656650668292017, tolerance: 0.0004927406477419355\n  positive)\n/Users/yry/anaconda3/lib/python3.7/site-packages/sklearn/linear_model/coordinate_descent.py:475: ConvergenceWarning: Objective did not converge. You might want to increase the number of iterations. Duality gap: 0.0014655867913773157, tolerance: 0.0008679126219354839\n  positive)\n/Users/yry/anaconda3/lib/python3.7/site-packages/sklearn/linear_model/coordinate_descent.py:475: ConvergenceWarning: Objective did not converge. You might want to increase the number of iterations. Duality gap: 0.0027345590504538053, tolerance: 0.0008679126219354839\n  positive)\n/Users/yry/anaconda3/lib/python3.7/site-packages/sklearn/linear_model/coordinate_descent.py:475: ConvergenceWarning: Objective did not converge. You might want to increase the number of iterations. Duality gap: 0.006737671935722132, tolerance: 0.0008679126219354839\n  positive)\n/Users/yry/anaconda3/lib/python3.7/site-packages/sklearn/linear_model/coordinate_descent.py:475: ConvergenceWarning: Objective did not converge. You might want to increase the number of iterations. Duality gap: 0.004184498853078512, tolerance: 0.0008679126219354839\n  positive)\n/Users/yry/anaconda3/lib/python3.7/site-packages/sklearn/linear_model/coordinate_descent.py:475: ConvergenceWarning: Objective did not converge. You might want to increase the number of iterations. Duality gap: 0.07553279564540041, tolerance: 0.0010371454742268043\n  positive)\n"
    },
    {
     "data": {
      "text/plain": "ElasticNetCV(alphas=None, copy_X=True, cv=5, eps=0.001, fit_intercept=True,\n             l1_ratio=0.5, max_iter=1000, n_alphas=100, n_jobs=None,\n             normalize=False, positive=False, precompute='auto',\n             random_state=256, selection='cyclic', tol=0.0001, verbose=0)"
     },
     "execution_count": 90,
     "metadata": {},
     "output_type": "execute_result"
    }
   ],
   "source": [
    "regr.fit(x, y)"
   ]
  },
  {
   "cell_type": "code",
   "execution_count": 91,
   "metadata": {},
   "outputs": [
    {
     "data": {
      "text/plain": "0.0009883829392766928"
     },
     "execution_count": 91,
     "metadata": {},
     "output_type": "execute_result"
    }
   ],
   "source": [
    "regr.alpha_"
   ]
  },
  {
   "cell_type": "code",
   "execution_count": null,
   "metadata": {},
   "outputs": [],
   "source": [
    "  "
   ]
  }
 ]
}