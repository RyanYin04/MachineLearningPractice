{
 "nbformat": 4,
 "nbformat_minor": 2,
 "metadata": {
  "language_info": {
   "name": "python",
   "codemirror_mode": {
    "name": "ipython",
    "version": 3
   },
   "version": "3.7.3"
  },
  "orig_nbformat": 2,
  "file_extension": ".py",
  "mimetype": "text/x-python",
  "name": "python",
  "npconvert_exporter": "python",
  "pygments_lexer": "ipython3",
  "version": 3
 },
 "cells": [
  {
   "cell_type": "code",
   "execution_count": 10,
   "metadata": {},
   "outputs": [],
   "source": [
    "import numpy as np\n",
    "import pandas as pd\n",
    "from sklearn.linear_model import ElasticNetCV, ElasticNet"
   ]
  },
  {
   "cell_type": "markdown",
   "execution_count": null,
   "metadata": {},
   "outputs": [],
   "source": [
    "Load the data"
   ]
  },
  {
   "cell_type": "code",
   "execution_count": 2,
   "metadata": {},
   "outputs": [
    {
     "name": "stdout",
     "output_type": "stream",
     "text": "(194, 4502)\n"
    },
    {
     "data": {
      "text/html": "<div>\n<style scoped>\n    .dataframe tbody tr th:only-of-type {\n        vertical-align: middle;\n    }\n\n    .dataframe tbody tr th {\n        vertical-align: top;\n    }\n\n    .dataframe thead th {\n        text-align: right;\n    }\n</style>\n<table border=\"1\" class=\"dataframe\">\n  <thead>\n    <tr style=\"text-align: right;\">\n      <th></th>\n      <th>ID</th>\n      <th>Strain</th>\n      <th>Medium</th>\n      <th>Stress</th>\n      <th>GenePerturbed</th>\n      <th>GrowthRate</th>\n      <th>b3356</th>\n      <th>b2922</th>\n      <th>b2519</th>\n      <th>b3823</th>\n      <th>...</th>\n      <th>b4684</th>\n      <th>b4689</th>\n      <th>b4685</th>\n      <th>b4683</th>\n      <th>b4682</th>\n      <th>b4699</th>\n      <th>b4698</th>\n      <th>b4704</th>\n      <th>b4703</th>\n      <th>b4635</th>\n    </tr>\n  </thead>\n  <tbody>\n    <tr>\n      <th>0</th>\n      <td>T8129</td>\n      <td>MG1655</td>\n      <td>MD001</td>\n      <td>none</td>\n      <td>oxyR_KO</td>\n      <td>0.637</td>\n      <td>0.304790</td>\n      <td>0.506615</td>\n      <td>0.289473</td>\n      <td>0.289473</td>\n      <td>...</td>\n      <td>0</td>\n      <td>0</td>\n      <td>0</td>\n      <td>0</td>\n      <td>0</td>\n      <td>0</td>\n      <td>0</td>\n      <td>0</td>\n      <td>0</td>\n      <td>NaN</td>\n    </tr>\n    <tr>\n      <th>1</th>\n      <td>T8130</td>\n      <td>MG1655</td>\n      <td>MD001</td>\n      <td>none</td>\n      <td>oxyR_KO</td>\n      <td>0.637</td>\n      <td>0.361095</td>\n      <td>0.582885</td>\n      <td>0.259295</td>\n      <td>0.259295</td>\n      <td>...</td>\n      <td>0</td>\n      <td>0</td>\n      <td>0</td>\n      <td>0</td>\n      <td>0</td>\n      <td>0</td>\n      <td>0</td>\n      <td>0</td>\n      <td>0</td>\n      <td>8</td>\n    </tr>\n    <tr>\n      <th>2</th>\n      <td>T8131</td>\n      <td>MG1655</td>\n      <td>MD001</td>\n      <td>none</td>\n      <td>oxyR_KO</td>\n      <td>0.637</td>\n      <td>0.295920</td>\n      <td>0.477482</td>\n      <td>0.304459</td>\n      <td>0.304459</td>\n      <td>...</td>\n      <td>0</td>\n      <td>0</td>\n      <td>0</td>\n      <td>0</td>\n      <td>0</td>\n      <td>0</td>\n      <td>0</td>\n      <td>0</td>\n      <td>0</td>\n      <td></td>\n    </tr>\n    <tr>\n      <th>3</th>\n      <td>T8135</td>\n      <td>MG1655</td>\n      <td>MD001</td>\n      <td>none</td>\n      <td>soxS_KO</td>\n      <td>0.724</td>\n      <td>0.332041</td>\n      <td>0.554672</td>\n      <td>0.308533</td>\n      <td>0.308533</td>\n      <td>...</td>\n      <td>0</td>\n      <td>0</td>\n      <td>0</td>\n      <td>0</td>\n      <td>0</td>\n      <td>0</td>\n      <td>0</td>\n      <td>0</td>\n      <td>0</td>\n      <td>0</td>\n    </tr>\n    <tr>\n      <th>4</th>\n      <td>T8136</td>\n      <td>MG1655</td>\n      <td>MD001</td>\n      <td>none</td>\n      <td>soxS_KO</td>\n      <td>0.724</td>\n      <td>0.323373</td>\n      <td>0.442617</td>\n      <td>0.318442</td>\n      <td>0.318442</td>\n      <td>...</td>\n      <td>0</td>\n      <td>0</td>\n      <td>0</td>\n      <td>0</td>\n      <td>0</td>\n      <td>0</td>\n      <td>0</td>\n      <td>0</td>\n      <td>0</td>\n      <td>NaN</td>\n    </tr>\n  </tbody>\n</table>\n<p>5 rows × 4502 columns</p>\n</div>",
      "text/plain": "      ID  Strain Medium Stress GenePerturbed  GrowthRate     b3356     b2922  \\\n0  T8129  MG1655  MD001   none       oxyR_KO       0.637  0.304790  0.506615   \n1  T8130  MG1655  MD001   none       oxyR_KO       0.637  0.361095  0.582885   \n2  T8131  MG1655  MD001   none       oxyR_KO       0.637  0.295920  0.477482   \n3  T8135  MG1655  MD001   none       soxS_KO       0.724  0.332041  0.554672   \n4  T8136  MG1655  MD001   none       soxS_KO       0.724  0.323373  0.442617   \n\n      b2519     b3823  ...  b4684  b4689  b4685  b4683  b4682  b4699  b4698  \\\n0  0.289473  0.289473  ...      0      0      0      0      0      0      0   \n1  0.259295  0.259295  ...      0      0      0      0      0      0      0   \n2  0.304459  0.304459  ...      0      0      0      0      0      0      0   \n3  0.308533  0.308533  ...      0      0      0      0      0      0      0   \n4  0.318442  0.318442  ...      0      0      0      0      0      0      0   \n\n   b4704  b4703  b4635  \n0      0      0    NaN  \n1      0      0      8  \n2      0      0      \n  \n3      0      0      0  \n4      0      0    NaN  \n\n[5 rows x 4502 columns]"
     },
     "execution_count": 2,
     "metadata": {},
     "output_type": "execute_result"
    }
   ],
   "source": [
    "bac = pd.read_csv('data/ecs171.dataset.txt', sep = '\\s+' )\n",
    "print(bac.shape)\n",
    "bac.head()"
   ]
  },
  {
   "cell_type": "markdown",
   "execution_count": null,
   "metadata": {},
   "outputs": [],
   "source": [
    "Notice the last column does not always have any value, so I decided to drop it. And since there are more than 4000 attributes, and base on the basic knowledge of the gene, it should not make too much difference."
   ]
  },
  {
   "cell_type": "code",
   "execution_count": 3,
   "metadata": {},
   "outputs": [],
   "source": [
    "bac.drop(columns = 'b4635', axis = 1, inplace = True)"
   ]
  },
  {
   "cell_type": "code",
   "execution_count": 4,
   "metadata": {},
   "outputs": [
    {
     "data": {
      "text/html": "<div>\n<style scoped>\n    .dataframe tbody tr th:only-of-type {\n        vertical-align: middle;\n    }\n\n    .dataframe tbody tr th {\n        vertical-align: top;\n    }\n\n    .dataframe thead th {\n        text-align: right;\n    }\n</style>\n<table border=\"1\" class=\"dataframe\">\n  <thead>\n    <tr style=\"text-align: right;\">\n      <th></th>\n      <th>b3356</th>\n      <th>b2922</th>\n      <th>b2519</th>\n      <th>b3823</th>\n      <th>b3824</th>\n      <th>b3353</th>\n      <th>b1500</th>\n      <th>b2923</th>\n      <th>b2513</th>\n      <th>b2512</th>\n      <th>...</th>\n      <th>b4673</th>\n      <th>b4684</th>\n      <th>b4689</th>\n      <th>b4685</th>\n      <th>b4683</th>\n      <th>b4682</th>\n      <th>b4699</th>\n      <th>b4698</th>\n      <th>b4704</th>\n      <th>b4703</th>\n    </tr>\n  </thead>\n  <tbody>\n    <tr>\n      <th>0</th>\n      <td>0.304790</td>\n      <td>0.506615</td>\n      <td>0.289473</td>\n      <td>0.289473</td>\n      <td>0.092213</td>\n      <td>0.109991</td>\n      <td>0.289473</td>\n      <td>0.289473</td>\n      <td>0.316641</td>\n      <td>0.248555</td>\n      <td>...</td>\n      <td>0</td>\n      <td>0</td>\n      <td>0</td>\n      <td>0</td>\n      <td>0</td>\n      <td>0</td>\n      <td>0</td>\n      <td>0</td>\n      <td>0</td>\n      <td>0</td>\n    </tr>\n    <tr>\n      <th>1</th>\n      <td>0.361095</td>\n      <td>0.582885</td>\n      <td>0.259295</td>\n      <td>0.259295</td>\n      <td>0.104293</td>\n      <td>0.149100</td>\n      <td>0.259295</td>\n      <td>0.259295</td>\n      <td>0.350822</td>\n      <td>0.256931</td>\n      <td>...</td>\n      <td>0</td>\n      <td>0</td>\n      <td>0</td>\n      <td>0</td>\n      <td>0</td>\n      <td>0</td>\n      <td>0</td>\n      <td>0</td>\n      <td>0</td>\n      <td>0</td>\n    </tr>\n    <tr>\n      <th>2</th>\n      <td>0.295920</td>\n      <td>0.477482</td>\n      <td>0.304459</td>\n      <td>0.304459</td>\n      <td>0.084021</td>\n      <td>0.121631</td>\n      <td>0.304459</td>\n      <td>0.304459</td>\n      <td>0.333197</td>\n      <td>0.251729</td>\n      <td>...</td>\n      <td>0</td>\n      <td>0</td>\n      <td>0</td>\n      <td>0</td>\n      <td>0</td>\n      <td>0</td>\n      <td>0</td>\n      <td>0</td>\n      <td>0</td>\n      <td>0</td>\n    </tr>\n    <tr>\n      <th>3</th>\n      <td>0.332041</td>\n      <td>0.554672</td>\n      <td>0.308533</td>\n      <td>0.308533</td>\n      <td>0.109976</td>\n      <td>0.146904</td>\n      <td>0.308533</td>\n      <td>0.308533</td>\n      <td>0.318897</td>\n      <td>0.267445</td>\n      <td>...</td>\n      <td>0</td>\n      <td>0</td>\n      <td>0</td>\n      <td>0</td>\n      <td>0</td>\n      <td>0</td>\n      <td>0</td>\n      <td>0</td>\n      <td>0</td>\n      <td>0</td>\n    </tr>\n    <tr>\n      <th>4</th>\n      <td>0.323373</td>\n      <td>0.442617</td>\n      <td>0.318442</td>\n      <td>0.318442</td>\n      <td>0.109609</td>\n      <td>0.128908</td>\n      <td>0.318442</td>\n      <td>0.318442</td>\n      <td>0.293445</td>\n      <td>0.253606</td>\n      <td>...</td>\n      <td>0</td>\n      <td>0</td>\n      <td>0</td>\n      <td>0</td>\n      <td>0</td>\n      <td>0</td>\n      <td>0</td>\n      <td>0</td>\n      <td>0</td>\n      <td>0</td>\n    </tr>\n  </tbody>\n</table>\n<p>5 rows × 4495 columns</p>\n</div>",
      "text/plain": "      b3356     b2922     b2519     b3823     b3824     b3353     b1500  \\\n0  0.304790  0.506615  0.289473  0.289473  0.092213  0.109991  0.289473   \n1  0.361095  0.582885  0.259295  0.259295  0.104293  0.149100  0.259295   \n2  0.295920  0.477482  0.304459  0.304459  0.084021  0.121631  0.304459   \n3  0.332041  0.554672  0.308533  0.308533  0.109976  0.146904  0.308533   \n4  0.323373  0.442617  0.318442  0.318442  0.109609  0.128908  0.318442   \n\n      b2923     b2513     b2512  ...  b4673  b4684  b4689  b4685  b4683  \\\n0  0.289473  0.316641  0.248555  ...      0      0      0      0      0   \n1  0.259295  0.350822  0.256931  ...      0      0      0      0      0   \n2  0.304459  0.333197  0.251729  ...      0      0      0      0      0   \n3  0.308533  0.318897  0.267445  ...      0      0      0      0      0   \n4  0.318442  0.293445  0.253606  ...      0      0      0      0      0   \n\n   b4682  b4699  b4698  b4704  b4703  \n0      0      0      0      0      0  \n1      0      0      0      0      0  \n2      0      0      0      0      0  \n3      0      0      0      0      0  \n4      0      0      0      0      0  \n\n[5 rows x 4495 columns]"
     },
     "execution_count": 4,
     "metadata": {},
     "output_type": "execute_result"
    }
   ],
   "source": [
    "y = bac.GrowthRate\n",
    "x = bac.iloc[:,6: ]\n",
    "x.head()"
   ]
  },
  {
   "cell_type": "markdown",
   "execution_count": null,
   "metadata": {},
   "outputs": [],
   "source": [
    "## 1. Elastic Net with Cross-Vlaidation:"
   ]
  },
  {
   "cell_type": "code",
   "execution_count": 59,
   "metadata": {},
   "outputs": [],
   "source": [
    "class myEnet():\n",
    "    ## define my elastic class, so it would be easier to extend any method or requirments.\n",
    "    def __init__(self, **kw):\n",
    "        '''Pass any keywords required in ElatisticNetCV.'''\n",
    "        self.__model = ElasticNetCV(**kw)\n",
    "    \n",
    "    def __call__(self, x, y):\n",
    "        '''\n",
    "        Call the firt method of the elastic model by calling the object itself.\n",
    "        '''\n",
    "        self.__model.fit(x, y)\n",
    "        return self.__model\n",
    "    "
   ]
  },
  {
   "cell_type": "code",
   "execution_count": 65,
   "metadata": {},
   "outputs": [
    {
     "name": "stderr",
     "output_type": "stream",
     "text": "[Parallel(n_jobs=-1)]: Using backend ThreadingBackend with 12 concurrent workers.\n....................................................................................................[Parallel(n_jobs=-1)]: Done  18 out of  20 | elapsed:    0.4s remaining:    0.0s\n[Parallel(n_jobs=-1)]: Done  20 out of  20 | elapsed:    0.4s finished\n"
    }
   ],
   "source": [
    "# Tuning the parameters. \n",
    "# l1 ratio: .1, .5, 1\n",
    "# Numbers of alpha = 10\n",
    "# There are 30 combinations in total.\n",
    "enet = myEnet(cv = 5, n_jobs = -1, random_state = 256, l1_ratio = [.1, .5,.8, 1], alphas = [1,2,4,8,16], max_iter = 8000, verbose = True)\n",
    "model = enet(x, y)"
   ]
  },
  {
   "cell_type": "code",
   "execution_count": 66,
   "metadata": {},
   "outputs": [
    {
     "data": {
      "text/plain": "array([16,  8,  4,  2,  1])"
     },
     "execution_count": 66,
     "metadata": {},
     "output_type": "execute_result"
    }
   ],
   "source": [
    "model.alphas_"
   ]
  },
  {
   "cell_type": "code",
   "execution_count": 67,
   "metadata": {},
   "outputs": [
    {
     "data": {
      "text/plain": "0.10598335185758499"
     },
     "execution_count": 67,
     "metadata": {},
     "output_type": "execute_result"
    }
   ],
   "source": [
    "model.alpha_\n",
    "model.l1_ratio_\n",
    "model.alphas_\n",
    "model.score(x,y)"
   ]
  },
  {
   "cell_type": "code",
   "execution_count": 70,
   "metadata": {},
   "outputs": [
    {
     "ename": "AttributeError",
     "evalue": "'ElasticNetCV' object has no attribute 'decision_function'",
     "output_type": "error",
     "traceback": [
      "\u001b[0;31m---------------------------------------------------------------------------\u001b[0m",
      "\u001b[0;31mAttributeError\u001b[0m                            Traceback (most recent call last)",
      "\u001b[0;32m<ipython-input-70-f91a6a19108c>\u001b[0m in \u001b[0;36m<module>\u001b[0;34m\u001b[0m\n\u001b[0;32m----> 1\u001b[0;31m \u001b[0mmodel\u001b[0m\u001b[0;34m.\u001b[0m\u001b[0mdecision_function\u001b[0m\u001b[0;34m(\u001b[0m\u001b[0mx\u001b[0m\u001b[0;34m)\u001b[0m\u001b[0;34m\u001b[0m\u001b[0;34m\u001b[0m\u001b[0m\n\u001b[0m",
      "\u001b[0;31mAttributeError\u001b[0m: 'ElasticNetCV' object has no attribute 'decision_function'"
     ]
    }
   ],
   "source": [
    "model.decision_function(x)"
   ]
  },
  {
   "cell_type": "code",
   "execution_count": null,
   "metadata": {},
   "outputs": [],
   "source": []
  }
 ]
}