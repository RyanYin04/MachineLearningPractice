{
 "nbformat": 4,
 "nbformat_minor": 2,
 "metadata": {
  "language_info": {
   "name": "python",
   "codemirror_mode": {
    "name": "ipython",
    "version": 3
   },
   "version": "3.7.3"
  },
  "orig_nbformat": 2,
  "file_extension": ".py",
  "mimetype": "text/x-python",
  "name": "python",
  "npconvert_exporter": "python",
  "pygments_lexer": "ipython3",
  "version": 3
 },
 "cells": [
  {
   "cell_type": "code",
   "execution_count": 1,
   "metadata": {},
   "outputs": [],
   "source": [
    "import numpy as np\n",
    "import pandas as pd\n",
    "from sklearn.linear_model import ElasticNetCV, ElasticNet\n",
    "from sklearn.utils import resample\n",
    "from tqdm import tqdm"
   ]
  },
  {
   "cell_type": "markdown",
   "execution_count": null,
   "metadata": {},
   "outputs": [],
   "source": [
    "Load the data"
   ]
  },
  {
   "cell_type": "code",
   "execution_count": 2,
   "metadata": {},
   "outputs": [
    {
     "name": "stdout",
     "output_type": "stream",
     "text": "(194, 4502)\n"
    },
    {
     "data": {
      "text/html": "<div>\n<style scoped>\n    .dataframe tbody tr th:only-of-type {\n        vertical-align: middle;\n    }\n\n    .dataframe tbody tr th {\n        vertical-align: top;\n    }\n\n    .dataframe thead th {\n        text-align: right;\n    }\n</style>\n<table border=\"1\" class=\"dataframe\">\n  <thead>\n    <tr style=\"text-align: right;\">\n      <th></th>\n      <th>ID</th>\n      <th>Strain</th>\n      <th>Medium</th>\n      <th>Stress</th>\n      <th>GenePerturbed</th>\n      <th>GrowthRate</th>\n      <th>b3356</th>\n      <th>b2922</th>\n      <th>b2519</th>\n      <th>b3823</th>\n      <th>...</th>\n      <th>b4684</th>\n      <th>b4689</th>\n      <th>b4685</th>\n      <th>b4683</th>\n      <th>b4682</th>\n      <th>b4699</th>\n      <th>b4698</th>\n      <th>b4704</th>\n      <th>b4703</th>\n      <th>b4635</th>\n    </tr>\n  </thead>\n  <tbody>\n    <tr>\n      <th>0</th>\n      <td>T8129</td>\n      <td>MG1655</td>\n      <td>MD001</td>\n      <td>none</td>\n      <td>oxyR_KO</td>\n      <td>0.637</td>\n      <td>0.304790</td>\n      <td>0.506615</td>\n      <td>0.289473</td>\n      <td>0.289473</td>\n      <td>...</td>\n      <td>0</td>\n      <td>0</td>\n      <td>0</td>\n      <td>0</td>\n      <td>0</td>\n      <td>0</td>\n      <td>0</td>\n      <td>0</td>\n      <td>0</td>\n      <td>NaN</td>\n    </tr>\n    <tr>\n      <th>1</th>\n      <td>T8130</td>\n      <td>MG1655</td>\n      <td>MD001</td>\n      <td>none</td>\n      <td>oxyR_KO</td>\n      <td>0.637</td>\n      <td>0.361095</td>\n      <td>0.582885</td>\n      <td>0.259295</td>\n      <td>0.259295</td>\n      <td>...</td>\n      <td>0</td>\n      <td>0</td>\n      <td>0</td>\n      <td>0</td>\n      <td>0</td>\n      <td>0</td>\n      <td>0</td>\n      <td>0</td>\n      <td>0</td>\n      <td>8</td>\n    </tr>\n    <tr>\n      <th>2</th>\n      <td>T8131</td>\n      <td>MG1655</td>\n      <td>MD001</td>\n      <td>none</td>\n      <td>oxyR_KO</td>\n      <td>0.637</td>\n      <td>0.295920</td>\n      <td>0.477482</td>\n      <td>0.304459</td>\n      <td>0.304459</td>\n      <td>...</td>\n      <td>0</td>\n      <td>0</td>\n      <td>0</td>\n      <td>0</td>\n      <td>0</td>\n      <td>0</td>\n      <td>0</td>\n      <td>0</td>\n      <td>0</td>\n      <td></td>\n    </tr>\n    <tr>\n      <th>3</th>\n      <td>T8135</td>\n      <td>MG1655</td>\n      <td>MD001</td>\n      <td>none</td>\n      <td>soxS_KO</td>\n      <td>0.724</td>\n      <td>0.332041</td>\n      <td>0.554672</td>\n      <td>0.308533</td>\n      <td>0.308533</td>\n      <td>...</td>\n      <td>0</td>\n      <td>0</td>\n      <td>0</td>\n      <td>0</td>\n      <td>0</td>\n      <td>0</td>\n      <td>0</td>\n      <td>0</td>\n      <td>0</td>\n      <td>0</td>\n    </tr>\n    <tr>\n      <th>4</th>\n      <td>T8136</td>\n      <td>MG1655</td>\n      <td>MD001</td>\n      <td>none</td>\n      <td>soxS_KO</td>\n      <td>0.724</td>\n      <td>0.323373</td>\n      <td>0.442617</td>\n      <td>0.318442</td>\n      <td>0.318442</td>\n      <td>...</td>\n      <td>0</td>\n      <td>0</td>\n      <td>0</td>\n      <td>0</td>\n      <td>0</td>\n      <td>0</td>\n      <td>0</td>\n      <td>0</td>\n      <td>0</td>\n      <td>NaN</td>\n    </tr>\n  </tbody>\n</table>\n<p>5 rows × 4502 columns</p>\n</div>",
      "text/plain": "      ID  Strain Medium Stress GenePerturbed  GrowthRate     b3356     b2922  \\\n0  T8129  MG1655  MD001   none       oxyR_KO       0.637  0.304790  0.506615   \n1  T8130  MG1655  MD001   none       oxyR_KO       0.637  0.361095  0.582885   \n2  T8131  MG1655  MD001   none       oxyR_KO       0.637  0.295920  0.477482   \n3  T8135  MG1655  MD001   none       soxS_KO       0.724  0.332041  0.554672   \n4  T8136  MG1655  MD001   none       soxS_KO       0.724  0.323373  0.442617   \n\n      b2519     b3823  ...  b4684  b4689  b4685  b4683  b4682  b4699  b4698  \\\n0  0.289473  0.289473  ...      0      0      0      0      0      0      0   \n1  0.259295  0.259295  ...      0      0      0      0      0      0      0   \n2  0.304459  0.304459  ...      0      0      0      0      0      0      0   \n3  0.308533  0.308533  ...      0      0      0      0      0      0      0   \n4  0.318442  0.318442  ...      0      0      0      0      0      0      0   \n\n   b4704  b4703  b4635  \n0      0      0    NaN  \n1      0      0      8  \n2      0      0      \n  \n3      0      0      0  \n4      0      0    NaN  \n\n[5 rows x 4502 columns]"
     },
     "execution_count": 2,
     "metadata": {},
     "output_type": "execute_result"
    }
   ],
   "source": [
    "bac = pd.read_csv('data/ecs171.dataset.txt', sep = '\\s+' )\n",
    "print(bac.shape)\n",
    "bac.head()"
   ]
  },
  {
   "cell_type": "markdown",
   "execution_count": null,
   "metadata": {},
   "outputs": [],
   "source": [
    "Notice the last column does not always have any value, so I decided to drop it. And since there are more than 4000 attributes, and base on the basic knowledge of the gene, it should not make too much difference."
   ]
  },
  {
   "cell_type": "code",
   "execution_count": 3,
   "metadata": {},
   "outputs": [],
   "source": [
    "bac.drop(columns = 'b4635', axis = 1, inplace = True)"
   ]
  },
  {
   "cell_type": "code",
   "execution_count": 4,
   "metadata": {},
   "outputs": [
    {
     "data": {
      "text/html": "<div>\n<style scoped>\n    .dataframe tbody tr th:only-of-type {\n        vertical-align: middle;\n    }\n\n    .dataframe tbody tr th {\n        vertical-align: top;\n    }\n\n    .dataframe thead th {\n        text-align: right;\n    }\n</style>\n<table border=\"1\" class=\"dataframe\">\n  <thead>\n    <tr style=\"text-align: right;\">\n      <th></th>\n      <th>b3356</th>\n      <th>b2922</th>\n      <th>b2519</th>\n      <th>b3823</th>\n      <th>b3824</th>\n      <th>b3353</th>\n      <th>b1500</th>\n      <th>b2923</th>\n      <th>b2513</th>\n      <th>b2512</th>\n      <th>...</th>\n      <th>b4673</th>\n      <th>b4684</th>\n      <th>b4689</th>\n      <th>b4685</th>\n      <th>b4683</th>\n      <th>b4682</th>\n      <th>b4699</th>\n      <th>b4698</th>\n      <th>b4704</th>\n      <th>b4703</th>\n    </tr>\n  </thead>\n  <tbody>\n    <tr>\n      <th>0</th>\n      <td>0.304790</td>\n      <td>0.506615</td>\n      <td>0.289473</td>\n      <td>0.289473</td>\n      <td>0.092213</td>\n      <td>0.109991</td>\n      <td>0.289473</td>\n      <td>0.289473</td>\n      <td>0.316641</td>\n      <td>0.248555</td>\n      <td>...</td>\n      <td>0</td>\n      <td>0</td>\n      <td>0</td>\n      <td>0</td>\n      <td>0</td>\n      <td>0</td>\n      <td>0</td>\n      <td>0</td>\n      <td>0</td>\n      <td>0</td>\n    </tr>\n    <tr>\n      <th>1</th>\n      <td>0.361095</td>\n      <td>0.582885</td>\n      <td>0.259295</td>\n      <td>0.259295</td>\n      <td>0.104293</td>\n      <td>0.149100</td>\n      <td>0.259295</td>\n      <td>0.259295</td>\n      <td>0.350822</td>\n      <td>0.256931</td>\n      <td>...</td>\n      <td>0</td>\n      <td>0</td>\n      <td>0</td>\n      <td>0</td>\n      <td>0</td>\n      <td>0</td>\n      <td>0</td>\n      <td>0</td>\n      <td>0</td>\n      <td>0</td>\n    </tr>\n    <tr>\n      <th>2</th>\n      <td>0.295920</td>\n      <td>0.477482</td>\n      <td>0.304459</td>\n      <td>0.304459</td>\n      <td>0.084021</td>\n      <td>0.121631</td>\n      <td>0.304459</td>\n      <td>0.304459</td>\n      <td>0.333197</td>\n      <td>0.251729</td>\n      <td>...</td>\n      <td>0</td>\n      <td>0</td>\n      <td>0</td>\n      <td>0</td>\n      <td>0</td>\n      <td>0</td>\n      <td>0</td>\n      <td>0</td>\n      <td>0</td>\n      <td>0</td>\n    </tr>\n    <tr>\n      <th>3</th>\n      <td>0.332041</td>\n      <td>0.554672</td>\n      <td>0.308533</td>\n      <td>0.308533</td>\n      <td>0.109976</td>\n      <td>0.146904</td>\n      <td>0.308533</td>\n      <td>0.308533</td>\n      <td>0.318897</td>\n      <td>0.267445</td>\n      <td>...</td>\n      <td>0</td>\n      <td>0</td>\n      <td>0</td>\n      <td>0</td>\n      <td>0</td>\n      <td>0</td>\n      <td>0</td>\n      <td>0</td>\n      <td>0</td>\n      <td>0</td>\n    </tr>\n    <tr>\n      <th>4</th>\n      <td>0.323373</td>\n      <td>0.442617</td>\n      <td>0.318442</td>\n      <td>0.318442</td>\n      <td>0.109609</td>\n      <td>0.128908</td>\n      <td>0.318442</td>\n      <td>0.318442</td>\n      <td>0.293445</td>\n      <td>0.253606</td>\n      <td>...</td>\n      <td>0</td>\n      <td>0</td>\n      <td>0</td>\n      <td>0</td>\n      <td>0</td>\n      <td>0</td>\n      <td>0</td>\n      <td>0</td>\n      <td>0</td>\n      <td>0</td>\n    </tr>\n  </tbody>\n</table>\n<p>5 rows × 4495 columns</p>\n</div>",
      "text/plain": "      b3356     b2922     b2519     b3823     b3824     b3353     b1500  \\\n0  0.304790  0.506615  0.289473  0.289473  0.092213  0.109991  0.289473   \n1  0.361095  0.582885  0.259295  0.259295  0.104293  0.149100  0.259295   \n2  0.295920  0.477482  0.304459  0.304459  0.084021  0.121631  0.304459   \n3  0.332041  0.554672  0.308533  0.308533  0.109976  0.146904  0.308533   \n4  0.323373  0.442617  0.318442  0.318442  0.109609  0.128908  0.318442   \n\n      b2923     b2513     b2512  ...  b4673  b4684  b4689  b4685  b4683  \\\n0  0.289473  0.316641  0.248555  ...      0      0      0      0      0   \n1  0.259295  0.350822  0.256931  ...      0      0      0      0      0   \n2  0.304459  0.333197  0.251729  ...      0      0      0      0      0   \n3  0.308533  0.318897  0.267445  ...      0      0      0      0      0   \n4  0.318442  0.293445  0.253606  ...      0      0      0      0      0   \n\n   b4682  b4699  b4698  b4704  b4703  \n0      0      0      0      0      0  \n1      0      0      0      0      0  \n2      0      0      0      0      0  \n3      0      0      0      0      0  \n4      0      0      0      0      0  \n\n[5 rows x 4495 columns]"
     },
     "execution_count": 4,
     "metadata": {},
     "output_type": "execute_result"
    }
   ],
   "source": [
    "y = bac.GrowthRate\n",
    "x = bac.iloc[:,6: ]\n",
    "x.head()"
   ]
  },
  {
   "cell_type": "markdown",
   "execution_count": null,
   "metadata": {},
   "outputs": [],
   "source": [
    "## 1. Elastic Net with Cross-Vlaidation:"
   ]
  },
  {
   "cell_type": "code",
   "execution_count": 5,
   "metadata": {},
   "outputs": [],
   "source": [
    "class myEnet():\n",
    "    '''\n",
    "    define my elastic class, so it would be easier to extend any method or requirments.\n",
    "    This class will tune the prameter by using cross validation.\n",
    "    The model this class will return is Elastic net.\n",
    "    To deploy cross-validation, ElasticNetCV function that built in sklearn.linear_model will be used.\n",
    "    '''\n",
    "\n",
    "    def __init__(self, **kw):\n",
    "        '''\n",
    "        Pass any keywords required in ElatisticNetCV.\n",
    "        '''\n",
    "        self._model = ElasticNetCV(**kw)\n",
    "    \n",
    "    def __call__(self, x, y):\n",
    "        '''\n",
    "        Call the method of the elastic model by calling the object itself.\n",
    "        '''\n",
    "\n",
    "        self._model.fit(x, y)\n",
    "        return self._model\n",
    "\n",
    "    def get_scores(self):\n",
    "        '''\n",
    "        Get the average mse under each combination of l1_ratio and alpha.\n",
    "        Return a pandas dataframe.  \n",
    "        '''\n",
    "        parameters = self._model.get_params()\n",
    "        l1_ratio = parameters['l1_ratio']\n",
    "        alphas = parameters['alphas']\n",
    "        mse = self._model.mse_path_\n",
    "        mean_mse = np.mean(mse, axis = 2)\n",
    "        frame = pd.DataFrame(mean_mse, index = l1_ratio, columns = alphas)\n",
    "        frame.index.names = [\"l1_ratio\"]\n",
    "        frame.columns.names = ['alpha']\n",
    "        return frame\n",
    "\n",
    "    def get_best_model(self):\n",
    "        '''\n",
    "        Based on best parameters tuned by cross validation, get the best model.\n",
    "        This method requires sklearn.linear_model.ElasticNet being imported.\n",
    "        Return a model that has not been fitted.\n",
    "        '''\n",
    "        alpha = self._model.alpha_\n",
    "        l1_ratio = self._model.l1_ratio_\n",
    "        return ElasticNet(alpha = alpha, l1_ratio = l1_ratio)\n",
    "\n",
    "    def get_n_attributes(self):\n",
    "        '''\n",
    "        Get the number of attributes that is informative which means in the model, the coefficient of the corresponding attribute is not 0\n",
    "        '''\n",
    "\n",
    "        return sum(self._model.coef_ != 0)\n",
    "\n",
    "    def get_index_attributes(self):\n",
    "        '''\n",
    "        Get the indices of the informative attributes.\n",
    "        '''\n",
    "        return np.where(self._model.coef_ != 0)\n",
    "\n",
    "    def bootstrapPred(self,x, y, x_pred, n_samples = 1000, alpha = 0.05, iters = 100)-> list:\n",
    "        '''\n",
    "        Params:\n",
    "        x: Training set for x\n",
    "        y: Training set for y\n",
    "        x_pred: The target to be predicted\n",
    "        alpha: confidence level\n",
    "        n_samples: number of resample data size\n",
    "        iters: number of resamples\n",
    "\n",
    "        Return:\n",
    "        The confidence interval for given data to be predicted under given alpha which is the confidence level.\n",
    "        '''\n",
    "        model = self.get_best_model()\n",
    "        pred = []\n",
    "\n",
    "        for i in tqdm(range(iters)):\n",
    "            # resample the data, fit the model, and get the prediction.\n",
    "            x_strapped, y_strapped = resample(x, y, n_samples = n_samples)\n",
    "            model.fit(x_strapped, y_strapped)\n",
    "            y_pred = model.predict(x_pred)[0]\n",
    "            pred.append(y_pred)\n",
    "        # Sort the prediction and get the empirical quantile\n",
    "        pred.sort()\n",
    "        lb = int(iters * (alpha / 2))\n",
    "        rb = int(iters * (1 - alpha / 2))\n",
    "\n",
    "        return pred[lb], pred[rb]\n",
    "    \n"
   ]
  },
  {
   "cell_type": "code",
   "execution_count": 6,
   "metadata": {},
   "outputs": [
    {
     "name": "stderr",
     "output_type": "stream",
     "text": "[Parallel(n_jobs=-1)]: Using backend ThreadingBackend with 12 concurrent workers.\n....................................................................................................................................................................................[Parallel(n_jobs=-1)]: Done  30 out of  30 | elapsed:    0.8s finished\n"
    }
   ],
   "source": [
    "# Tuning the parameters. \n",
    "# l1 ratio: .1, .25, .5, .75, .9, 1\n",
    "# Numbers of alpha = 6\n",
    "# There are 30 combinations in total.\n",
    "enet = myEnet(cv = 5, n_jobs = -1, random_state = 256, l1_ratio = [ .1, .25, .5, .75, .9, 1], alphas = [0.5, 1, 2, 4, 8, 16], max_iter = 8000, verbose = True)\n",
    "model = enet(x, y)"
   ]
  },
  {
   "cell_type": "code",
   "execution_count": 7,
   "metadata": {},
   "outputs": [
    {
     "data": {
      "text/html": "<div>\n<style scoped>\n    .dataframe tbody tr th:only-of-type {\n        vertical-align: middle;\n    }\n\n    .dataframe tbody tr th {\n        vertical-align: top;\n    }\n\n    .dataframe thead th {\n        text-align: right;\n    }\n</style>\n<table border=\"1\" class=\"dataframe\">\n  <thead>\n    <tr style=\"text-align: right;\">\n      <th>alpha</th>\n      <th>0.5</th>\n      <th>1.0</th>\n      <th>2.0</th>\n      <th>4.0</th>\n      <th>8.0</th>\n      <th>16.0</th>\n    </tr>\n    <tr>\n      <th>l1_ratio</th>\n      <th></th>\n      <th></th>\n      <th></th>\n      <th></th>\n      <th></th>\n      <th></th>\n    </tr>\n  </thead>\n  <tbody>\n    <tr>\n      <th>0.10</th>\n      <td>0.055702</td>\n      <td>0.055702</td>\n      <td>0.055771</td>\n      <td>0.055743</td>\n      <td>0.053729</td>\n      <td>0.056487</td>\n    </tr>\n    <tr>\n      <th>0.25</th>\n      <td>0.055702</td>\n      <td>0.055702</td>\n      <td>0.055702</td>\n      <td>0.055779</td>\n      <td>0.055749</td>\n      <td>0.054794</td>\n    </tr>\n    <tr>\n      <th>0.50</th>\n      <td>0.055702</td>\n      <td>0.055702</td>\n      <td>0.055702</td>\n      <td>0.055702</td>\n      <td>0.055779</td>\n      <td>0.055749</td>\n    </tr>\n    <tr>\n      <th>0.75</th>\n      <td>0.055702</td>\n      <td>0.055702</td>\n      <td>0.055702</td>\n      <td>0.055702</td>\n      <td>0.055702</td>\n      <td>0.055768</td>\n    </tr>\n    <tr>\n      <th>0.90</th>\n      <td>0.055702</td>\n      <td>0.055702</td>\n      <td>0.055702</td>\n      <td>0.055702</td>\n      <td>0.055702</td>\n      <td>0.055782</td>\n    </tr>\n    <tr>\n      <th>1.00</th>\n      <td>0.055702</td>\n      <td>0.055702</td>\n      <td>0.055702</td>\n      <td>0.055702</td>\n      <td>0.055702</td>\n      <td>0.055779</td>\n    </tr>\n  </tbody>\n</table>\n</div>",
      "text/plain": "alpha         0.5       1.0       2.0       4.0       8.0       16.0\nl1_ratio                                                            \n0.10      0.055702  0.055702  0.055771  0.055743  0.053729  0.056487\n0.25      0.055702  0.055702  0.055702  0.055779  0.055749  0.054794\n0.50      0.055702  0.055702  0.055702  0.055702  0.055779  0.055749\n0.75      0.055702  0.055702  0.055702  0.055702  0.055702  0.055768\n0.90      0.055702  0.055702  0.055702  0.055702  0.055702  0.055782\n1.00      0.055702  0.055702  0.055702  0.055702  0.055702  0.055779"
     },
     "execution_count": 7,
     "metadata": {},
     "output_type": "execute_result"
    }
   ],
   "source": [
    "enet.get_scores()"
   ]
  },
  {
   "cell_type": "markdown",
   "execution_count": null,
   "metadata": {},
   "outputs": [],
   "source": [
    "As the score table shows, the minimal mse is obtained when alpha = 8 and l1_ratio = 0.1."
   ]
  },
  {
   "cell_type": "code",
   "execution_count": 8,
   "metadata": {},
   "outputs": [
    {
     "data": {
      "text/plain": "8"
     },
     "execution_count": 8,
     "metadata": {},
     "output_type": "execute_result"
    }
   ],
   "source": [
    "enet.get_n_attributes()"
   ]
  },
  {
   "cell_type": "code",
   "execution_count": 9,
   "metadata": {},
   "outputs": [
    {
     "data": {
      "text/plain": "(array([ 152,  159,  400,  723, 2409, 2576, 2718, 3088]),)"
     },
     "execution_count": 9,
     "metadata": {},
     "output_type": "execute_result"
    }
   ],
   "source": [
    "enet.get_index_attributes()"
   ]
  },
  {
   "cell_type": "code",
   "execution_count": 10,
   "metadata": {},
   "outputs": [
    {
     "data": {
      "text/plain": "1.0"
     },
     "execution_count": 10,
     "metadata": {},
     "output_type": "execute_result"
    }
   ],
   "source": [
    "model.alpha_"
   ]
  },
  {
   "cell_type": "code",
   "execution_count": 11,
   "metadata": {},
   "outputs": [
    {
     "data": {
      "text/plain": "0.1"
     },
     "execution_count": 11,
     "metadata": {},
     "output_type": "execute_result"
    }
   ],
   "source": [
    "model.l1_ratio_"
   ]
  },
  {
   "cell_type": "markdown",
   "execution_count": null,
   "metadata": {},
   "outputs": [],
   "source": [
    "Based on the output above, when set alpha = 8 and l1_ratio to be .1, there will be 8 attributes that are treated as informative in the model, and their indices are: 152,  159,  400,  723, 2409, 2576, 2718, 3088. And the five-fold cross validation error is 0.053729."
   ]
  },
  {
   "cell_type": "markdown",
   "execution_count": null,
   "metadata": {},
   "outputs": [],
   "source": [
    "## 2. Bootstrap method."
   ]
  },
  {
   "cell_type": "markdown",
   "execution_count": null,
   "metadata": {},
   "outputs": [],
   "source": [
    "### Assumption:\n",
    "The empirical quantile obtained by bottstrap can actually refelct the theoritical qunatiles.\n",
    "\n",
    "### Methodolodgy:\n"
   ]
  },
  {
   "cell_type": "markdown",
   "execution_count": null,
   "metadata": {},
   "outputs": [],
   "source": [
    "## 3. Using boptstrap method giving the confidence interval for predcition."
   ]
  },
  {
   "cell_type": "code",
   "execution_count": 25,
   "metadata": {},
   "outputs": [
    {
     "data": {
      "text/plain": "array([[0.25816219, 0.15967946, 0.07014185, ..., 0.        , 0.        ,\n        0.        ]])"
     },
     "execution_count": 25,
     "metadata": {},
     "output_type": "execute_result"
    }
   ],
   "source": [
    "# Calculate the average expression value of each gene.\n",
    "x_pred = np.array(np.mean(x, axis = 0)).reshape(1,-1)\n",
    "x_pred"
   ]
  },
  {
   "cell_type": "code",
   "execution_count": 35,
   "metadata": {},
   "outputs": [
    {
     "name": "stderr",
     "output_type": "stream",
     "text": "100%|██████████| 1000/1000 [00:11<00:00, 83.47it/s]\n"
    }
   ],
   "source": [
    "# Predict a bactarium that has the average expression value.\n",
    "# Set the confidence level to be 0.95\n",
    "confidence_interval = enet.bootstrapPred(x = x, y = y, x_pred = x_pred, alpha = 0.05, iters = 1000, n_samples = 100)"
   ]
  },
  {
   "cell_type": "code",
   "execution_count": 36,
   "metadata": {},
   "outputs": [
    {
     "data": {
      "text/plain": "(0.35264363973876534, 0.43909991206866344)"
     },
     "execution_count": 36,
     "metadata": {},
     "output_type": "execute_result"
    }
   ],
   "source": [
    "confidence_interval"
   ]
  },
  {
   "cell_type": "markdown",
   "execution_count": null,
   "metadata": {},
   "outputs": [],
   "source": [
    "So under confidence level to be 0.95, total number of resample to be 1,000, and size of the sample size to be 100, I got the confidence interval as above:\n",
    "\n",
    "(0.35264363973876534, 0.43909991206866344)"
   ]
  },
  {
   "cell_type": "markdown",
   "execution_count": null,
   "metadata": {},
   "outputs": [],
   "source": [
    "## 4. "
   ]
  },
  {
   "cell_type": "code",
   "execution_count": null,
   "metadata": {},
   "outputs": [],
   "source": []
  }
 ]
}