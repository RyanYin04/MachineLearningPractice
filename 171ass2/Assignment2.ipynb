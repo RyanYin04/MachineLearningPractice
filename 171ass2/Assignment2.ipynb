{
 "nbformat": 4,
 "nbformat_minor": 2,
 "metadata": {
  "language_info": {
   "name": "python",
   "codemirror_mode": {
    "name": "ipython",
    "version": 3
   }
  },
  "orig_nbformat": 2,
  "file_extension": ".py",
  "mimetype": "text/x-python",
  "name": "python",
  "npconvert_exporter": "python",
  "pygments_lexer": "ipython3",
  "version": 3
 },
 "cells": [
  {
   "cell_type": "markdown",
   "execution_count": null,
   "metadata": {},
   "outputs": [],
   "source": [
    "## Assignment 2"
   ]
  },
  {
   "cell_type": "code",
   "execution_count": 2,
   "metadata": {},
   "outputs": [],
   "source": [
    "import numpy as np\n",
    "import pandas as pd\n",
    "import matplotlib.pyplot as plt\n",
    "import seaborn as sns"
   ]
  },
  {
   "cell_type": "code",
   "execution_count": 3,
   "metadata": {},
   "outputs": [
    {
     "data": {
      "text/html": "<div>\n<style scoped>\n    .dataframe tbody tr th:only-of-type {\n        vertical-align: middle;\n    }\n\n    .dataframe tbody tr th {\n        vertical-align: top;\n    }\n\n    .dataframe thead th {\n        text-align: right;\n    }\n</style>\n<table border=\"1\" class=\"dataframe\">\n  <thead>\n    <tr style=\"text-align: right;\">\n      <th></th>\n      <th>Source</th>\n      <th>v1</th>\n      <th>v2</th>\n      <th>v3</th>\n      <th>v4</th>\n      <th>v5</th>\n      <th>v6</th>\n      <th>v7</th>\n      <th>v8</th>\n      <th>y</th>\n    </tr>\n  </thead>\n  <tbody>\n    <tr>\n      <th>0</th>\n      <td>ADT1_YEAST</td>\n      <td>0.58</td>\n      <td>0.61</td>\n      <td>0.47</td>\n      <td>0.13</td>\n      <td>0.5</td>\n      <td>0.0</td>\n      <td>0.48</td>\n      <td>0.22</td>\n      <td>MIT</td>\n    </tr>\n    <tr>\n      <th>1</th>\n      <td>ADT2_YEAST</td>\n      <td>0.43</td>\n      <td>0.67</td>\n      <td>0.48</td>\n      <td>0.27</td>\n      <td>0.5</td>\n      <td>0.0</td>\n      <td>0.53</td>\n      <td>0.22</td>\n      <td>MIT</td>\n    </tr>\n    <tr>\n      <th>2</th>\n      <td>ADT3_YEAST</td>\n      <td>0.64</td>\n      <td>0.62</td>\n      <td>0.49</td>\n      <td>0.15</td>\n      <td>0.5</td>\n      <td>0.0</td>\n      <td>0.53</td>\n      <td>0.22</td>\n      <td>MIT</td>\n    </tr>\n    <tr>\n      <th>3</th>\n      <td>AAR2_YEAST</td>\n      <td>0.58</td>\n      <td>0.44</td>\n      <td>0.57</td>\n      <td>0.13</td>\n      <td>0.5</td>\n      <td>0.0</td>\n      <td>0.54</td>\n      <td>0.22</td>\n      <td>NUC</td>\n    </tr>\n    <tr>\n      <th>4</th>\n      <td>AATM_YEAST</td>\n      <td>0.42</td>\n      <td>0.44</td>\n      <td>0.48</td>\n      <td>0.54</td>\n      <td>0.5</td>\n      <td>0.0</td>\n      <td>0.48</td>\n      <td>0.22</td>\n      <td>MIT</td>\n    </tr>\n  </tbody>\n</table>\n</div>",
      "text/plain": "       Source    v1    v2    v3    v4   v5   v6    v7    v8    y\n0  ADT1_YEAST  0.58  0.61  0.47  0.13  0.5  0.0  0.48  0.22  MIT\n1  ADT2_YEAST  0.43  0.67  0.48  0.27  0.5  0.0  0.53  0.22  MIT\n2  ADT3_YEAST  0.64  0.62  0.49  0.15  0.5  0.0  0.53  0.22  MIT\n3  AAR2_YEAST  0.58  0.44  0.57  0.13  0.5  0.0  0.54  0.22  NUC\n4  AATM_YEAST  0.42  0.44  0.48  0.54  0.5  0.0  0.48  0.22  MIT"
     },
     "execution_count": 3,
     "metadata": {},
     "output_type": "execute_result"
    }
   ],
   "source": [
    "yeast = pd.read_csv('data/yeast.data', sep = '\\s+', header = None)\n",
    "col_names = ['v{}'.format(i) for i in range(0, 9)]\n",
    "col_names.append('y') \n",
    "yeast.columns = col_names\n",
    "yeast.rename(columns={yeast.columns[0]: 'Source'}, inplace = True)\n",
    "yeast.head()"
   ]
  },
  {
   "cell_type": "code",
   "execution_count": 4,
   "metadata": {},
   "outputs": [],
   "source": [
    "x = yeast.iloc[:, 1:9]\n",
    "y = yeast['y']"
   ]
  },
  {
   "cell_type": "markdown",
   "execution_count": null,
   "metadata": {},
   "outputs": [],
   "source": [
    "## Ourlier Detection"
   ]
  },
  {
   "cell_type": "markdown",
   "execution_count": null,
   "metadata": {},
   "outputs": [],
   "source": [
    "Outlier detectot to be used:\n",
    "- LOF: Local Outlier Factor\n",
    "- One class SVM\n",
    "- Isolation Forest"
   ]
  },
  {
   "cell_type": "code",
   "execution_count": 5,
   "metadata": {},
   "outputs": [],
   "source": [
    "#sns.pairplot(yeast.iloc[:,1:10], hue = 'y')\n",
    "#plt.savefig('pics/pair.png')"
   ]
  },
  {
   "cell_type": "markdown",
   "execution_count": null,
   "metadata": {},
   "outputs": [],
   "source": [
    "### One class SVM"
   ]
  },
  {
   "cell_type": "code",
   "execution_count": 6,
   "metadata": {},
   "outputs": [],
   "source": [
    "from sklearn.svm import OneClassSVM\n",
    "clf = OneClassSVM(gamma = 'auto')\n",
    "outlier = clf.fit_predict(x)"
   ]
  },
  {
   "cell_type": "code",
   "execution_count": 7,
   "metadata": {},
   "outputs": [
    {
     "data": {
      "text/plain": " 1    743\n-1    741\ndtype: int64"
     },
     "execution_count": 7,
     "metadata": {},
     "output_type": "execute_result"
    }
   ],
   "source": [
    "pd.Series(outlier).value_counts()"
   ]
  },
  {
   "cell_type": "markdown",
   "execution_count": null,
   "metadata": {},
   "outputs": [],
   "source": [
    "Any data labeled by -1 is treated as an outlier using the method. "
   ]
  },
  {
   "cell_type": "markdown",
   "execution_count": null,
   "metadata": {},
   "outputs": [],
   "source": [
    "### LOF"
   ]
  },
  {
   "cell_type": "code",
   "execution_count": 8,
   "metadata": {},
   "outputs": [],
   "source": [
    "from sklearn.neighbors import LocalOutlierFactor as LOF"
   ]
  },
  {
   "cell_type": "code",
   "execution_count": 9,
   "metadata": {},
   "outputs": [
    {
     "name": "stderr",
     "output_type": "stream",
     "text": "/Users/yry/anaconda3/lib/python3.7/site-packages/sklearn/neighbors/lof.py:236: FutureWarning: default contamination parameter 0.1 will change in version 0.22 to \"auto\". This will change the predict method behavior.\n  FutureWarning)\n"
    },
    {
     "data": {
      "text/plain": " 1    743\n-1    741\ndtype: int64"
     },
     "execution_count": 9,
     "metadata": {},
     "output_type": "execute_result"
    }
   ],
   "source": [
    "lof = LOF()\n",
    "outlier1 = lof.fit_predict(x)\n",
    "pd.Series(outlier).value_counts()"
   ]
  },
  {
   "cell_type": "markdown",
   "execution_count": null,
   "metadata": {},
   "outputs": [],
   "source": [
    "### Isolation Forest"
   ]
  },
  {
   "cell_type": "code",
   "execution_count": 10,
   "metadata": {},
   "outputs": [],
   "source": [
    "from sklearn.ensemble import IsolationForest"
   ]
  },
  {
   "cell_type": "code",
   "execution_count": 11,
   "metadata": {},
   "outputs": [
    {
     "name": "stderr",
     "output_type": "stream",
     "text": "/Users/yry/anaconda3/lib/python3.7/site-packages/sklearn/ensemble/iforest.py:237: FutureWarning: default contamination parameter 0.1 will change in version 0.22 to \"auto\". This will change the predict method behavior.\n  FutureWarning)\n/Users/yry/anaconda3/lib/python3.7/site-packages/sklearn/ensemble/iforest.py:247: FutureWarning: behaviour=\"old\" is deprecated and will be removed in version 0.22. Please use behaviour=\"new\", which makes the decision_function change to match other anomaly detection algorithm API.\n  FutureWarning)\n/Users/yry/anaconda3/lib/python3.7/site-packages/sklearn/ensemble/iforest.py:415: DeprecationWarning: threshold_ attribute is deprecated in 0.20 and will be removed in 0.22.\n  \" be removed in 0.22.\", DeprecationWarning)\n"
    },
    {
     "data": {
      "text/plain": " 1    1335\n-1     149\ndtype: int64"
     },
     "execution_count": 11,
     "metadata": {},
     "output_type": "execute_result"
    }
   ],
   "source": [
    "clf = IsolationForest()\n",
    "outlier2 = clf.fit_predict(x)\n",
    "pd.Series(outlier2).value_counts()"
   ]
  },
  {
   "cell_type": "code",
   "execution_count": 12,
   "metadata": {},
   "outputs": [
    {
     "data": {
      "text/plain": "(array([   5,   29,   41,   69,  118,  139,  148,  174,  207,  220,  227,\n         236,  237,  239,  242,  244,  246,  272,  274,  318,  323,  325,\n         326,  345,  376,  377,  421,  483,  491,  496,  508,  528,  533,\n         538,  575,  579,  587,  595,  605,  614,  661,  664,  667,  692,\n         702,  704,  722,  745,  746,  748,  755,  759,  778,  786,  787,\n         836,  874,  875,  900,  923,  926,  954,  955,  962,  963,  971,\n         977,  986,  987,  997,  998,  999, 1021, 1039, 1076, 1078, 1085,\n        1105, 1110, 1114, 1120, 1143, 1149, 1163, 1188, 1192, 1195, 1213,\n        1217, 1225, 1250, 1272, 1283, 1299, 1315, 1332, 1356, 1357, 1363,\n        1364, 1382, 1386, 1396, 1429, 1434, 1446, 1448, 1455, 1465, 1466]),)"
     },
     "execution_count": 12,
     "metadata": {},
     "output_type": "execute_result"
    }
   ],
   "source": [
    "np.where(outlier1 != outlier2)"
   ]
  },
  {
   "cell_type": "markdown",
   "execution_count": null,
   "metadata": {},
   "outputs": [],
   "source": [
    "### Remove outlier"
   ]
  },
  {
   "cell_type": "code",
   "execution_count": 13,
   "metadata": {},
   "outputs": [],
   "source": [
    "x_ = x.iloc[np.where(outlier2 == 1)[0],].reset_index(drop = True)\n",
    "y_ = y.iloc[np.where(outlier2 == 1)[0],].reset_index(drop = True)"
   ]
  },
  {
   "cell_type": "markdown",
   "execution_count": null,
   "metadata": {},
   "outputs": [],
   "source": [
    "## Build up ANN model."
   ]
  },
  {
   "cell_type": "code",
   "execution_count": 28,
   "metadata": {},
   "outputs": [],
   "source": [
    "import tensorflow as tf\n",
    "from tensorflow.keras import Sequential\n",
    "from tensorflow.keras.layers import Dense\n",
    "from sklearn.preprocessing import MinMaxScaler, LabelEncoder, OneHotEncoder"
   ]
  },
  {
   "cell_type": "code",
   "execution_count": 30,
   "metadata": {},
   "outputs": [],
   "source": [
    "scalar = MinMaxScaler()\n",
    "x_ = scalar.fit_transform(x_)\n",
    "y_ = np.array(y_).reshape(-1,1)\n",
    "enc = OneHotEncoder()\n",
    "y_ = OneHotEncoder().fit_transform(y_)\n",
    "y_ = y_.toarray()"
   ]
  },
  {
   "cell_type": "code",
   "execution_count": 31,
   "metadata": {},
   "outputs": [],
   "source": [
    "x_tr, x_te, y_tr, y_te = train_test_split(x_, y_,  test_size = 0.34, random_state = 256)"
   ]
  },
  {
   "cell_type": "code",
   "execution_count": 39,
   "metadata": {},
   "outputs": [
    {
     "name": "stdout",
     "output_type": "stream",
     "text": "Train on 881 samples\nEpoch 1/50\n881/881 [==============================] - 0s 384us/sample - loss: 0.2815 - accuracy: 0.3303\nEpoch 2/50\n881/881 [==============================] - 0s 37us/sample - loss: 0.2667 - accuracy: 0.3303\nEpoch 3/50\n881/881 [==============================] - 0s 35us/sample - loss: 0.2530 - accuracy: 0.3303\nEpoch 4/50\n881/881 [==============================] - 0s 36us/sample - loss: 0.2403 - accuracy: 0.3303\nEpoch 5/50\n881/881 [==============================] - 0s 38us/sample - loss: 0.2284 - accuracy: 0.3303\nEpoch 6/50\n881/881 [==============================] - 0s 40us/sample - loss: 0.2173 - accuracy: 0.3303\nEpoch 7/50\n881/881 [==============================] - 0s 37us/sample - loss: 0.2068 - accuracy: 0.3303\nEpoch 8/50\n881/881 [==============================] - 0s 32us/sample - loss: 0.1968 - accuracy: 0.3303\nEpoch 9/50\n881/881 [==============================] - 0s 30us/sample - loss: 0.1873 - accuracy: 0.3303\nEpoch 10/50\n881/881 [==============================] - 0s 28us/sample - loss: 0.1783 - accuracy: 0.3303\nEpoch 11/50\n881/881 [==============================] - 0s 31us/sample - loss: 0.1697 - accuracy: 0.3303\nEpoch 12/50\n881/881 [==============================] - 0s 32us/sample - loss: 0.1617 - accuracy: 0.3303\nEpoch 13/50\n881/881 [==============================] - 0s 28us/sample - loss: 0.1543 - accuracy: 0.3303\nEpoch 14/50\n881/881 [==============================] - 0s 30us/sample - loss: 0.1475 - accuracy: 0.3303\nEpoch 15/50\n881/881 [==============================] - 0s 25us/sample - loss: 0.1412 - accuracy: 0.3303\nEpoch 16/50\n881/881 [==============================] - 0s 27us/sample - loss: 0.1354 - accuracy: 0.3303\nEpoch 17/50\n881/881 [==============================] - 0s 32us/sample - loss: 0.1302 - accuracy: 0.3303\nEpoch 18/50\n881/881 [==============================] - 0s 29us/sample - loss: 0.1255 - accuracy: 0.3303\nEpoch 19/50\n881/881 [==============================] - 0s 31us/sample - loss: 0.1213 - accuracy: 0.3303\nEpoch 20/50\n881/881 [==============================] - 0s 35us/sample - loss: 0.1175 - accuracy: 0.3303\nEpoch 21/50\n881/881 [==============================] - 0s 30us/sample - loss: 0.1141 - accuracy: 0.3303\nEpoch 22/50\n881/881 [==============================] - 0s 30us/sample - loss: 0.1110 - accuracy: 0.3303\nEpoch 23/50\n881/881 [==============================] - 0s 33us/sample - loss: 0.1083 - accuracy: 0.3303\nEpoch 24/50\n881/881 [==============================] - 0s 32us/sample - loss: 0.1059 - accuracy: 0.3303\nEpoch 25/50\n881/881 [==============================] - 0s 31us/sample - loss: 0.1038 - accuracy: 0.3303\nEpoch 26/50\n881/881 [==============================] - 0s 32us/sample - loss: 0.1019 - accuracy: 0.3303\nEpoch 27/50\n881/881 [==============================] - 0s 36us/sample - loss: 0.1002 - accuracy: 0.3303\nEpoch 28/50\n881/881 [==============================] - 0s 37us/sample - loss: 0.0987 - accuracy: 0.3303\nEpoch 29/50\n881/881 [==============================] - 0s 44us/sample - loss: 0.0974 - accuracy: 0.3303\nEpoch 30/50\n881/881 [==============================] - 0s 38us/sample - loss: 0.0962 - accuracy: 0.3303\nEpoch 31/50\n881/881 [==============================] - 0s 33us/sample - loss: 0.0952 - accuracy: 0.3303\nEpoch 32/50\n881/881 [==============================] - 0s 34us/sample - loss: 0.0942 - accuracy: 0.3303\nEpoch 33/50\n881/881 [==============================] - 0s 33us/sample - loss: 0.0934 - accuracy: 0.3303\nEpoch 34/50\n881/881 [==============================] - 0s 32us/sample - loss: 0.0927 - accuracy: 0.3303\nEpoch 35/50\n881/881 [==============================] - 0s 31us/sample - loss: 0.0920 - accuracy: 0.3303\nEpoch 36/50\n881/881 [==============================] - 0s 35us/sample - loss: 0.0914 - accuracy: 0.3303\nEpoch 37/50\n881/881 [==============================] - 0s 38us/sample - loss: 0.0909 - accuracy: 0.3303\nEpoch 38/50\n881/881 [==============================] - 0s 33us/sample - loss: 0.0904 - accuracy: 0.3303\nEpoch 39/50\n881/881 [==============================] - 0s 35us/sample - loss: 0.0900 - accuracy: 0.3303\nEpoch 40/50\n881/881 [==============================] - 0s 31us/sample - loss: 0.0896 - accuracy: 0.3303\nEpoch 41/50\n881/881 [==============================] - 0s 34us/sample - loss: 0.0892 - accuracy: 0.3303\nEpoch 42/50\n881/881 [==============================] - 0s 35us/sample - loss: 0.0889 - accuracy: 0.3303\nEpoch 43/50\n881/881 [==============================] - 0s 32us/sample - loss: 0.0886 - accuracy: 0.3303\nEpoch 44/50\n881/881 [==============================] - 0s 33us/sample - loss: 0.0883 - accuracy: 0.3303\nEpoch 45/50\n881/881 [==============================] - 0s 42us/sample - loss: 0.0881 - accuracy: 0.3303\nEpoch 46/50\n881/881 [==============================] - 0s 42us/sample - loss: 0.0879 - accuracy: 0.3303\nEpoch 47/50\n881/881 [==============================] - 0s 40us/sample - loss: 0.0877 - accuracy: 0.3303\nEpoch 48/50\n881/881 [==============================] - 0s 41us/sample - loss: 0.0875 - accuracy: 0.3303\nEpoch 49/50\n881/881 [==============================] - 0s 37us/sample - loss: 0.0873 - accuracy: 0.3303\nEpoch 50/50\n881/881 [==============================] - 0s 39us/sample - loss: 0.0871 - accuracy: 0.3303\n"
    },
    {
     "data": {
      "text/plain": "<tensorflow.python.keras.callbacks.History at 0x1a415fbe80>"
     },
     "execution_count": 39,
     "metadata": {},
     "output_type": "execute_result"
    }
   ],
   "source": [
    "MLP = Sequential([\n",
    "    # Input layer:\n",
    "    Dense(3, input_shape =(8, ), activation = tf.nn.sigmoid),\n",
    "    Dense(3, activation = tf.nn.sigmoid),\n",
    "    Dense(9, activation = tf.nn.sigmoid)\n",
    "])\n",
    "\n",
    "MLP.compile(optimizer = 'adam', loss = 'mse', metrics = ['accuracy'])\n",
    "MLP.fit(x_tr,y_tr, epochs = 50)"
   ]
  },
  {
   "cell_type": "code",
   "execution_count": null,
   "metadata": {},
   "outputs": [],
   "source": []
  }
 ]
}